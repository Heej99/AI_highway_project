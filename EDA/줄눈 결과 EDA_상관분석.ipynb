{
 "cells": [
  {
   "cell_type": "markdown",
   "id": "8fbf360c",
   "metadata": {},
   "source": [
    "## 0. Library Import"
   ]
  },
  {
   "cell_type": "code",
   "execution_count": 325,
   "id": "7d84a800",
   "metadata": {},
   "outputs": [],
   "source": [
    "import pandas as pd\n",
    "import numpy as np\n",
    "import matplotlib.pyplot as plt"
   ]
  },
  {
   "cell_type": "code",
   "execution_count": 204,
   "id": "e40df294",
   "metadata": {},
   "outputs": [],
   "source": [
    "# 출력결과 모두 확인\n",
    "from IPython.core.interactiveshell import InteractiveShell\n",
    "InteractiveShell.ast_node_interactivity = \"all\""
   ]
  },
  {
   "cell_type": "markdown",
   "id": "a598116a",
   "metadata": {},
   "source": [
    "## 1. Data "
   ]
  },
  {
   "cell_type": "code",
   "execution_count": 205,
   "id": "2b2cca6f",
   "metadata": {},
   "outputs": [],
   "source": [
    "ai_detect_result = pd.read_excel('./data/탐지결과_2106-2108.xlsx')\n",
    "julnun_result = pd.read_excel('./data/응력완화줄눈 현황(4835)_210331.xlsx',sheet_name='응력완화줄눈 현황',skiprows = 2)"
   ]
  },
  {
   "cell_type": "code",
   "execution_count": 206,
   "id": "371e293d",
   "metadata": {
    "scrolled": true
   },
   "outputs": [
    {
     "data": {
      "text/html": [
       "<div>\n",
       "<style scoped>\n",
       "    .dataframe tbody tr th:only-of-type {\n",
       "        vertical-align: middle;\n",
       "    }\n",
       "\n",
       "    .dataframe tbody tr th {\n",
       "        vertical-align: top;\n",
       "    }\n",
       "\n",
       "    .dataframe thead th {\n",
       "        text-align: right;\n",
       "    }\n",
       "</style>\n",
       "<table border=\"1\" class=\"dataframe\">\n",
       "  <thead>\n",
       "    <tr style=\"text-align: right;\">\n",
       "      <th></th>\n",
       "      <th>탐지ID</th>\n",
       "      <th>탐지일시</th>\n",
       "      <th>포트홀보수일시</th>\n",
       "      <th>본부</th>\n",
       "      <th>지사</th>\n",
       "      <th>노선</th>\n",
       "      <th>방향</th>\n",
       "      <th>이정</th>\n",
       "      <th>차로</th>\n",
       "      <th>위도</th>\n",
       "      <th>경도</th>\n",
       "      <th>줄눈상태</th>\n",
       "    </tr>\n",
       "  </thead>\n",
       "  <tbody>\n",
       "    <tr>\n",
       "      <th>0</th>\n",
       "      <td>6202108310078</td>\n",
       "      <td>2021-08-31 16:05:44</td>\n",
       "      <td>NaN</td>\n",
       "      <td>광주전남본부</td>\n",
       "      <td>함평지사</td>\n",
       "      <td>서해안선</td>\n",
       "      <td>서울</td>\n",
       "      <td>30.39</td>\n",
       "      <td>2차로</td>\n",
       "      <td>35.06868</td>\n",
       "      <td>126.47953</td>\n",
       "      <td>정상</td>\n",
       "    </tr>\n",
       "  </tbody>\n",
       "</table>\n",
       "</div>"
      ],
      "text/plain": [
       "            탐지ID                 탐지일시  포트홀보수일시      본부    지사    노선  방향     이정  \\\n",
       "0  6202108310078  2021-08-31 16:05:44      NaN  광주전남본부  함평지사  서해안선  서울  30.39   \n",
       "\n",
       "    차로        위도         경도 줄눈상태  \n",
       "0  2차로  35.06868  126.47953   정상  "
      ]
     },
     "execution_count": 206,
     "metadata": {},
     "output_type": "execute_result"
    },
    {
     "data": {
      "text/html": [
       "<div>\n",
       "<style scoped>\n",
       "    .dataframe tbody tr th:only-of-type {\n",
       "        vertical-align: middle;\n",
       "    }\n",
       "\n",
       "    .dataframe tbody tr th {\n",
       "        vertical-align: top;\n",
       "    }\n",
       "\n",
       "    .dataframe thead th {\n",
       "        text-align: right;\n",
       "    }\n",
       "</style>\n",
       "<table border=\"1\" class=\"dataframe\">\n",
       "  <thead>\n",
       "    <tr style=\"text-align: right;\">\n",
       "      <th></th>\n",
       "      <th>본부</th>\n",
       "      <th>지사</th>\n",
       "      <th>노선</th>\n",
       "      <th>방향</th>\n",
       "      <th>시공이정</th>\n",
       "      <th>시공년도</th>\n",
       "      <th>최초 시공폭\\n(mm)</th>\n",
       "      <th>줄눈폭(2020.8월말 기준)\\n(mm)</th>\n",
       "      <th>비고</th>\n",
       "      <th>Unnamed: 9</th>\n",
       "    </tr>\n",
       "  </thead>\n",
       "  <tbody>\n",
       "    <tr>\n",
       "      <th>0</th>\n",
       "      <td>NaN</td>\n",
       "      <td>NaN</td>\n",
       "      <td>NaN</td>\n",
       "      <td>NaN</td>\n",
       "      <td>NaN</td>\n",
       "      <td>NaN</td>\n",
       "      <td>NaN</td>\n",
       "      <td>NaN</td>\n",
       "      <td>NaN</td>\n",
       "      <td>NaN</td>\n",
       "    </tr>\n",
       "  </tbody>\n",
       "</table>\n",
       "</div>"
      ],
      "text/plain": [
       "    본부   지사   노선   방향 시공이정  시공년도  최초 시공폭\\n(mm)  줄눈폭(2020.8월말 기준)\\n(mm)  비고  \\\n",
       "0  NaN  NaN  NaN  NaN  NaN   NaN           NaN                     NaN NaN   \n",
       "\n",
       "   Unnamed: 9  \n",
       "0         NaN  "
      ]
     },
     "execution_count": 206,
     "metadata": {},
     "output_type": "execute_result"
    }
   ],
   "source": [
    "# 데이터 확인 \n",
    "ai_detect_result.head(1)\n",
    "julnun_result.head(1)"
   ]
  },
  {
   "cell_type": "code",
   "execution_count": 207,
   "id": "06aea365",
   "metadata": {},
   "outputs": [
    {
     "name": "stdout",
     "output_type": "stream",
     "text": [
      "<class 'pandas.core.frame.DataFrame'>\n",
      "RangeIndex: 15153 entries, 0 to 15152\n",
      "Data columns (total 12 columns):\n",
      " #   Column   Non-Null Count  Dtype  \n",
      "---  ------   --------------  -----  \n",
      " 0   탐지ID     15153 non-null  int64  \n",
      " 1   탐지일시     15153 non-null  object \n",
      " 2   포트홀보수일시  0 non-null      float64\n",
      " 3   본부       15153 non-null  object \n",
      " 4   지사       15153 non-null  object \n",
      " 5   노선       15153 non-null  object \n",
      " 6   방향       14875 non-null  object \n",
      " 7   이정       15153 non-null  float64\n",
      " 8   차로       15153 non-null  object \n",
      " 9   위도       15153 non-null  float64\n",
      " 10  경도       15153 non-null  float64\n",
      " 11  줄눈상태     15153 non-null  object \n",
      "dtypes: float64(4), int64(1), object(7)\n",
      "memory usage: 1.4+ MB\n",
      "\n",
      "<class 'pandas.core.frame.DataFrame'>\n",
      "RangeIndex: 4836 entries, 0 to 4835\n",
      "Data columns (total 10 columns):\n",
      " #   Column                 Non-Null Count  Dtype  \n",
      "---  ------                 --------------  -----  \n",
      " 0   본부                     4835 non-null   object \n",
      " 1   지사                     4835 non-null   object \n",
      " 2   노선                     4835 non-null   object \n",
      " 3   방향                     4835 non-null   object \n",
      " 4   시공이정                   4835 non-null   object \n",
      " 5   시공년도                   4835 non-null   float64\n",
      " 6   최초 시공폭\n",
      "(mm)            4835 non-null   float64\n",
      " 7   줄눈폭(2020.8월말 기준)\n",
      "(mm)  4606 non-null   float64\n",
      " 8   비고                     0 non-null      float64\n",
      " 9   Unnamed: 9             0 non-null      float64\n",
      "dtypes: float64(5), object(5)\n",
      "memory usage: 377.9+ KB\n"
     ]
    }
   ],
   "source": [
    "ai_detect_result.info()\n",
    "print()\n",
    "julnun_result.info()"
   ]
  },
  {
   "cell_type": "markdown",
   "id": "9d66e8d0",
   "metadata": {},
   "source": [
    "# 2. Data 전처리 "
   ]
  },
  {
   "cell_type": "markdown",
   "id": "e0d332c5",
   "metadata": {},
   "source": [
    "*  ai 줄눈 탐지 데이터 - 차로 있는 버전"
   ]
  },
  {
   "cell_type": "code",
   "execution_count": 208,
   "id": "024daefd",
   "metadata": {},
   "outputs": [],
   "source": [
    "# 혹시 모를 사태를 대비해서 \n",
    "ai_detect_result_copy = ai_detect_result.copy()"
   ]
  },
  {
   "cell_type": "code",
   "execution_count": 209,
   "id": "452ccbe0",
   "metadata": {
    "scrolled": false
   },
   "outputs": [
    {
     "data": {
      "text/plain": [
       "'\\n 탐지ID - 이미지 탐지용이므로 필요 없다고 하심\\n 포트홀보수일시  - 다 null 값\\n 줄눈 상태 - 차장님이 필요 없다고 하심\\n'"
      ]
     },
     "execution_count": 209,
     "metadata": {},
     "output_type": "execute_result"
    },
    {
     "name": "stdout",
     "output_type": "stream",
     "text": [
      "중복된 행개수 제거 : 14302 \n",
      " 기존 행개수 :15153\n"
     ]
    },
    {
     "name": "stderr",
     "output_type": "stream",
     "text": [
      "<ipython-input-209-ac99a248cc04>:15: SettingWithCopyWarning: \n",
      "A value is trying to be set on a copy of a slice from a DataFrame.\n",
      "Try using .loc[row_indexer,col_indexer] = value instead\n",
      "\n",
      "See the caveats in the documentation: https://pandas.pydata.org/pandas-docs/stable/user_guide/indexing.html#returning-a-view-versus-a-copy\n",
      "  ai_detect['탐지일시'] = pd.to_datetime(ai_detect['탐지일시']) # 탐지일시 날짜 타입 변환\n",
      "<ipython-input-209-ac99a248cc04>:16: SettingWithCopyWarning: \n",
      "A value is trying to be set on a copy of a slice from a DataFrame.\n",
      "Try using .loc[row_indexer,col_indexer] = value instead\n",
      "\n",
      "See the caveats in the documentation: https://pandas.pydata.org/pandas-docs/stable/user_guide/indexing.html#returning-a-view-versus-a-copy\n",
      "  ai_detect['month'] = ai_detect['탐지일시'].dt.month # 탐지일시 month 열 추출\n"
     ]
    },
    {
     "data": {
      "text/plain": [
       "'\\n가정 : (본부-지사 - 노선 - 방향 - 차로 - 이정)이 같은 것은 같은 객체를 탐지한 것으로 생각한다.\\n\\ne.g) 2021.06.13일에 측정한 (서울지사 - 경부선 - 서울 - 1차로 - 31.4) 데이터  =\\n    2021.07.13일에 측정한 (서울지사 - 경부선 - 서울 - 1차로 - 31.4) 데이터 \\n'"
      ]
     },
     "execution_count": 209,
     "metadata": {},
     "output_type": "execute_result"
    }
   ],
   "source": [
    "# ai 줄눈 탐지 데이터 - 제거 columns\n",
    "'''\n",
    " 탐지ID - 이미지 탐지용이므로 필요 없다고 하심\n",
    " 포트홀보수일시  - 다 null 값\n",
    " 줄눈 상태 - 차장님이 필요 없다고 하심\n",
    "'''\n",
    "ai_detect_result.drop(['탐지ID','포트홀보수일시','줄눈상태'],axis=1,inplace=True)\n",
    "\n",
    "## 중복제거 \n",
    "# 완전히 값이 같은 행 제거 \n",
    "print('중복된 행개수 제거 : {0} \\n 기존 행개수 :{1}'.format(ai_detect_result.drop_duplicates().shape[0],ai_detect_result.shape[0]))\n",
    "ai_detect=ai_detect_result.drop_duplicates()\n",
    "\n",
    "## 시계열적 흐름 탐지 \n",
    "ai_detect['탐지일시'] = pd.to_datetime(ai_detect['탐지일시']) # 탐지일시 날짜 타입 변환\n",
    "ai_detect['month'] = ai_detect['탐지일시'].dt.month # 탐지일시 month 열 추출\n",
    "\n",
    "# 6,7,8월별 이정 기준 이동 거리 및 개수 count 하기 \n",
    "\n",
    "ai_detect_month = ai_detect.drop_duplicates(['본부','지사','노선','방향','차로','month','이정'],keep='first')\n",
    "group = ai_detect_month.groupby(['본부','지사','노선','방향','차로','month'])\n",
    "group_month_distance = group['이정'].max() - group['이정'].min()\n",
    "group_month_count = group['이정'].count()\n",
    "ai_detect_month_final = pd.DataFrame(group_month_count.reset_index()) \n",
    "ai_detect_month_final ['월별_이정기준_이동거리'] = group_month_distance.values\n",
    "ai_detect_month_final .rename(columns={'이정':'월별_이정기준_줄눈개수'},inplace=True)\n",
    "\n",
    "## (전체) 이정 기준 이동 거리 및 개수 count 하기 \n",
    "\n",
    "'''\n",
    "가정 : (본부-지사 - 노선 - 방향 - 차로 - 이정)이 같은 것은 같은 객체를 탐지한 것으로 생각한다.\n",
    "\n",
    "e.g) 2021.06.13일에 측정한 (서울지사 - 경부선 - 서울 - 1차로 - 31.4) 데이터  =\n",
    "    2021.07.13일에 측정한 (서울지사 - 경부선 - 서울 - 1차로 - 31.4) 데이터 \n",
    "'''\n",
    "# (본부-지사 - 노선 - 방향 - 차로 - 이정) 같은거 중복 제거 \n",
    "ai_detect_all = ai_detect.drop_duplicates(['본부','지사','노선','방향','차로','이정'],keep='first')\n",
    "\n",
    "# 이동 거리 및 줄눈개수\n",
    "group2 = ai_detect_all.groupby(['본부','지사','노선','방향','차로'])\n",
    "group_distance = group2['이정'].max() - group2['이정'].min()\n",
    "group_count = group2['이정'].count()\n",
    "ai_detect_all_final = pd.DataFrame(group_count.reset_index()) \n",
    "ai_detect_all_final ['전체_이정기준_이동거리'] = group_distance.values\n",
    "ai_detect_all_final .rename(columns={'이정':'전체_이정기준_줄눈개수'},inplace=True)"
   ]
  },
  {
   "cell_type": "code",
   "execution_count": 210,
   "id": "4bb75b1a",
   "metadata": {
    "scrolled": true
   },
   "outputs": [
    {
     "data": {
      "text/html": [
       "<div>\n",
       "<style scoped>\n",
       "    .dataframe tbody tr th:only-of-type {\n",
       "        vertical-align: middle;\n",
       "    }\n",
       "\n",
       "    .dataframe tbody tr th {\n",
       "        vertical-align: top;\n",
       "    }\n",
       "\n",
       "    .dataframe thead th {\n",
       "        text-align: right;\n",
       "    }\n",
       "</style>\n",
       "<table border=\"1\" class=\"dataframe\">\n",
       "  <thead>\n",
       "    <tr style=\"text-align: right;\">\n",
       "      <th></th>\n",
       "      <th>본부</th>\n",
       "      <th>지사</th>\n",
       "      <th>노선</th>\n",
       "      <th>방향</th>\n",
       "      <th>차로</th>\n",
       "      <th>전체_이정기준_줄눈개수</th>\n",
       "      <th>전체_이정기준_이동거리</th>\n",
       "    </tr>\n",
       "  </thead>\n",
       "  <tbody>\n",
       "    <tr>\n",
       "      <th>0</th>\n",
       "      <td>강원본부</td>\n",
       "      <td>강릉지사</td>\n",
       "      <td>동해선</td>\n",
       "      <td>근덕</td>\n",
       "      <td>1차로</td>\n",
       "      <td>2</td>\n",
       "      <td>21.51</td>\n",
       "    </tr>\n",
       "  </tbody>\n",
       "</table>\n",
       "</div>"
      ],
      "text/plain": [
       "     본부    지사   노선  방향   차로  전체_이정기준_줄눈개수  전체_이정기준_이동거리\n",
       "0  강원본부  강릉지사  동해선  근덕  1차로             2         21.51"
      ]
     },
     "execution_count": 210,
     "metadata": {},
     "output_type": "execute_result"
    },
    {
     "data": {
      "text/html": [
       "<div>\n",
       "<style scoped>\n",
       "    .dataframe tbody tr th:only-of-type {\n",
       "        vertical-align: middle;\n",
       "    }\n",
       "\n",
       "    .dataframe tbody tr th {\n",
       "        vertical-align: top;\n",
       "    }\n",
       "\n",
       "    .dataframe thead th {\n",
       "        text-align: right;\n",
       "    }\n",
       "</style>\n",
       "<table border=\"1\" class=\"dataframe\">\n",
       "  <thead>\n",
       "    <tr style=\"text-align: right;\">\n",
       "      <th></th>\n",
       "      <th>본부</th>\n",
       "      <th>지사</th>\n",
       "      <th>노선</th>\n",
       "      <th>방향</th>\n",
       "      <th>차로</th>\n",
       "      <th>month</th>\n",
       "      <th>월별_이정기준_줄눈개수</th>\n",
       "      <th>월별_이정기준_이동거리</th>\n",
       "    </tr>\n",
       "  </thead>\n",
       "  <tbody>\n",
       "    <tr>\n",
       "      <th>0</th>\n",
       "      <td>강원본부</td>\n",
       "      <td>강릉지사</td>\n",
       "      <td>동해선</td>\n",
       "      <td>근덕</td>\n",
       "      <td>1차로</td>\n",
       "      <td>6</td>\n",
       "      <td>1</td>\n",
       "      <td>0.0</td>\n",
       "    </tr>\n",
       "  </tbody>\n",
       "</table>\n",
       "</div>"
      ],
      "text/plain": [
       "     본부    지사   노선  방향   차로  month  월별_이정기준_줄눈개수  월별_이정기준_이동거리\n",
       "0  강원본부  강릉지사  동해선  근덕  1차로      6             1           0.0"
      ]
     },
     "execution_count": 210,
     "metadata": {},
     "output_type": "execute_result"
    },
    {
     "name": "stdout",
     "output_type": "stream",
     "text": [
      "\n"
     ]
    },
    {
     "data": {
      "text/plain": [
       "((282, 7), (574, 8))"
      ]
     },
     "execution_count": 210,
     "metadata": {},
     "output_type": "execute_result"
    }
   ],
   "source": [
    "ai_detect_all_final.head(1) # 잘 만들어진 듯 \n",
    "ai_detect_month_final.head(1)\n",
    "\n",
    "print()\n",
    "\n",
    "ai_detect_all_final.shape, ai_detect_month_final.shape"
   ]
  },
  {
   "cell_type": "markdown",
   "id": "2c1fa6c0",
   "metadata": {},
   "source": [
    "* ai 줄눈 탐지 데이터 - 차로 없는 버전"
   ]
  },
  {
   "cell_type": "code",
   "execution_count": 211,
   "id": "adc7ef6b",
   "metadata": {},
   "outputs": [],
   "source": [
    "\n",
    "# 6,7,8월별 이정 기준 이동 거리 및 개수 count 하기 \n",
    "\n",
    "ai_detect_month_차로합침 = ai_detect.drop_duplicates(['본부','지사','노선','방향','차로','month','이정'],keep='first') # 중복 자체는 모두 같아야 제거하자.\n",
    "group3 = ai_detect_month_차로합침.groupby(['본부','지사','노선','방향','month'])\n",
    "group_month_차로합침_distance = group3['이정'].max() - group3['이정'].min()\n",
    "group_month_차로합침_count = group3['이정'].count()\n",
    "ai_detect_month_차로합침_final = pd.DataFrame(group_month_차로합침_count.reset_index()) \n",
    "ai_detect_month_차로합침_final['월별_이정기준_이동거리'] = group_month_차로합침_distance.values\n",
    "ai_detect_month_차로합침_final.rename(columns={'이정':'월별_이정기준_줄눈개수'},inplace=True)\n",
    "\n",
    "## (전체) 이정 기준 이동 거리 및 개수 count 하기 \n",
    "\n",
    "# (본부-지사 - 노선 - 방향 - 차로 - 이정) 같은거 중복 제거 \n",
    "ai_detect_all_차로합침 = ai_detect.drop_duplicates(['본부','지사','노선','방향','차로','이정'],keep='first')\n",
    "\n",
    "# 이동 거리 및 줄눈개수\n",
    "group4 = ai_detect_all_차로합침.groupby(['본부','지사','노선','방향'])\n",
    "group_all_차로합침_distance = group4['이정'].max() - group4['이정'].min()\n",
    "grou_all_차로합침_count = group4['이정'].count()\n",
    "ai_detect_all_차로합침_final = pd.DataFrame(grou_all_차로합침_count.reset_index()) \n",
    "ai_detect_all_차로합침_final['전체_이정기준_이동거리'] = group_all_차로합침_distance.values\n",
    "ai_detect_all_차로합침_final.rename(columns={'이정':'전체_이정기준_줄눈개수'},inplace=True)"
   ]
  },
  {
   "cell_type": "code",
   "execution_count": 303,
   "id": "4a84f6cd",
   "metadata": {},
   "outputs": [],
   "source": [
    "mask = ai_detect.duplicated(['본부','지사','노선','방향','차로','이정'])\n",
    "df_dup = pd.concat([ai_detect, mask ], axis=1)\n",
    "df_dup.rename(columns = {0 : 'Dup'}, inplace = True)"
   ]
  },
  {
   "cell_type": "code",
   "execution_count": 305,
   "id": "a4f64cb9",
   "metadata": {},
   "outputs": [
    {
     "data": {
      "text/html": [
       "<div>\n",
       "<style scoped>\n",
       "    .dataframe tbody tr th:only-of-type {\n",
       "        vertical-align: middle;\n",
       "    }\n",
       "\n",
       "    .dataframe tbody tr th {\n",
       "        vertical-align: top;\n",
       "    }\n",
       "\n",
       "    .dataframe thead th {\n",
       "        text-align: right;\n",
       "    }\n",
       "</style>\n",
       "<table border=\"1\" class=\"dataframe\">\n",
       "  <thead>\n",
       "    <tr style=\"text-align: right;\">\n",
       "      <th></th>\n",
       "      <th>탐지일시</th>\n",
       "      <th>본부</th>\n",
       "      <th>지사</th>\n",
       "      <th>노선</th>\n",
       "      <th>방향</th>\n",
       "      <th>이정</th>\n",
       "      <th>차로</th>\n",
       "      <th>위도</th>\n",
       "      <th>경도</th>\n",
       "      <th>month</th>\n",
       "      <th>Dup</th>\n",
       "    </tr>\n",
       "  </thead>\n",
       "  <tbody>\n",
       "    <tr>\n",
       "      <th>15</th>\n",
       "      <td>2021-08-31 15:18:35</td>\n",
       "      <td>전북본부</td>\n",
       "      <td>무주지사</td>\n",
       "      <td>통영대전선,중부선</td>\n",
       "      <td>통영</td>\n",
       "      <td>181.36</td>\n",
       "      <td>2차로</td>\n",
       "      <td>36.077408</td>\n",
       "      <td>127.540436</td>\n",
       "      <td>8</td>\n",
       "      <td>True</td>\n",
       "    </tr>\n",
       "    <tr>\n",
       "      <th>19</th>\n",
       "      <td>2021-08-31 15:18:33</td>\n",
       "      <td>전북본부</td>\n",
       "      <td>무주지사</td>\n",
       "      <td>통영대전선,중부선</td>\n",
       "      <td>통영</td>\n",
       "      <td>181.42</td>\n",
       "      <td>2차로</td>\n",
       "      <td>36.077847</td>\n",
       "      <td>127.540199</td>\n",
       "      <td>8</td>\n",
       "      <td>True</td>\n",
       "    </tr>\n",
       "    <tr>\n",
       "      <th>24</th>\n",
       "      <td>2021-08-31 15:17:57</td>\n",
       "      <td>전북본부</td>\n",
       "      <td>무주지사</td>\n",
       "      <td>통영대전선,중부선</td>\n",
       "      <td>통영</td>\n",
       "      <td>182.36</td>\n",
       "      <td>2차로</td>\n",
       "      <td>36.085571</td>\n",
       "      <td>127.535828</td>\n",
       "      <td>8</td>\n",
       "      <td>True</td>\n",
       "    </tr>\n",
       "    <tr>\n",
       "      <th>218</th>\n",
       "      <td>2021-08-31 10:30:35</td>\n",
       "      <td>전북본부</td>\n",
       "      <td>부안지사</td>\n",
       "      <td>서해안선</td>\n",
       "      <td>목포</td>\n",
       "      <td>80.05</td>\n",
       "      <td>2차로</td>\n",
       "      <td>35.466305</td>\n",
       "      <td>126.673698</td>\n",
       "      <td>8</td>\n",
       "      <td>True</td>\n",
       "    </tr>\n",
       "    <tr>\n",
       "      <th>244</th>\n",
       "      <td>2021-08-31 10:25:44</td>\n",
       "      <td>전북본부</td>\n",
       "      <td>부안지사</td>\n",
       "      <td>서해안선</td>\n",
       "      <td>목포</td>\n",
       "      <td>86.53</td>\n",
       "      <td>2차로</td>\n",
       "      <td>35.523998</td>\n",
       "      <td>126.686668</td>\n",
       "      <td>8</td>\n",
       "      <td>True</td>\n",
       "    </tr>\n",
       "    <tr>\n",
       "      <th>...</th>\n",
       "      <td>...</td>\n",
       "      <td>...</td>\n",
       "      <td>...</td>\n",
       "      <td>...</td>\n",
       "      <td>...</td>\n",
       "      <td>...</td>\n",
       "      <td>...</td>\n",
       "      <td>...</td>\n",
       "      <td>...</td>\n",
       "      <td>...</td>\n",
       "      <td>...</td>\n",
       "    </tr>\n",
       "    <tr>\n",
       "      <th>15122</th>\n",
       "      <td>2021-06-02 14:32:24</td>\n",
       "      <td>충북본부</td>\n",
       "      <td>제천지사</td>\n",
       "      <td>중앙선</td>\n",
       "      <td>춘천</td>\n",
       "      <td>252.17</td>\n",
       "      <td>2차로</td>\n",
       "      <td>36.942619</td>\n",
       "      <td>128.319534</td>\n",
       "      <td>6</td>\n",
       "      <td>True</td>\n",
       "    </tr>\n",
       "    <tr>\n",
       "      <th>15123</th>\n",
       "      <td>2021-06-02 14:31:23</td>\n",
       "      <td>충북본부</td>\n",
       "      <td>상주지사</td>\n",
       "      <td>중부내륙선</td>\n",
       "      <td>양평</td>\n",
       "      <td>166.03</td>\n",
       "      <td>2차로</td>\n",
       "      <td>36.579388</td>\n",
       "      <td>128.149399</td>\n",
       "      <td>6</td>\n",
       "      <td>True</td>\n",
       "    </tr>\n",
       "    <tr>\n",
       "      <th>15124</th>\n",
       "      <td>2021-06-02 14:30:12</td>\n",
       "      <td>충북본부</td>\n",
       "      <td>제천지사</td>\n",
       "      <td>중앙선</td>\n",
       "      <td>춘천</td>\n",
       "      <td>248.53</td>\n",
       "      <td>2차로</td>\n",
       "      <td>36.920986</td>\n",
       "      <td>128.348450</td>\n",
       "      <td>6</td>\n",
       "      <td>True</td>\n",
       "    </tr>\n",
       "    <tr>\n",
       "      <th>15125</th>\n",
       "      <td>2021-06-02 14:29:53</td>\n",
       "      <td>충북본부</td>\n",
       "      <td>상주지사</td>\n",
       "      <td>중부내륙선</td>\n",
       "      <td>양평</td>\n",
       "      <td>163.93</td>\n",
       "      <td>2차로</td>\n",
       "      <td>36.560699</td>\n",
       "      <td>128.147186</td>\n",
       "      <td>6</td>\n",
       "      <td>True</td>\n",
       "    </tr>\n",
       "    <tr>\n",
       "      <th>15126</th>\n",
       "      <td>2021-06-02 14:29:40</td>\n",
       "      <td>충북본부</td>\n",
       "      <td>상주지사</td>\n",
       "      <td>중부내륙선</td>\n",
       "      <td>양평</td>\n",
       "      <td>163.65</td>\n",
       "      <td>2차로</td>\n",
       "      <td>36.558205</td>\n",
       "      <td>128.146835</td>\n",
       "      <td>6</td>\n",
       "      <td>True</td>\n",
       "    </tr>\n",
       "  </tbody>\n",
       "</table>\n",
       "<p>5785 rows × 11 columns</p>\n",
       "</div>"
      ],
      "text/plain": [
       "                     탐지일시    본부    지사         노선  방향      이정   차로         위도  \\\n",
       "15    2021-08-31 15:18:35  전북본부  무주지사  통영대전선,중부선  통영  181.36  2차로  36.077408   \n",
       "19    2021-08-31 15:18:33  전북본부  무주지사  통영대전선,중부선  통영  181.42  2차로  36.077847   \n",
       "24    2021-08-31 15:17:57  전북본부  무주지사  통영대전선,중부선  통영  182.36  2차로  36.085571   \n",
       "218   2021-08-31 10:30:35  전북본부  부안지사       서해안선  목포   80.05  2차로  35.466305   \n",
       "244   2021-08-31 10:25:44  전북본부  부안지사       서해안선  목포   86.53  2차로  35.523998   \n",
       "...                   ...   ...   ...        ...  ..     ...  ...        ...   \n",
       "15122 2021-06-02 14:32:24  충북본부  제천지사        중앙선  춘천  252.17  2차로  36.942619   \n",
       "15123 2021-06-02 14:31:23  충북본부  상주지사      중부내륙선  양평  166.03  2차로  36.579388   \n",
       "15124 2021-06-02 14:30:12  충북본부  제천지사        중앙선  춘천  248.53  2차로  36.920986   \n",
       "15125 2021-06-02 14:29:53  충북본부  상주지사      중부내륙선  양평  163.93  2차로  36.560699   \n",
       "15126 2021-06-02 14:29:40  충북본부  상주지사      중부내륙선  양평  163.65  2차로  36.558205   \n",
       "\n",
       "               경도  month   Dup  \n",
       "15     127.540436      8  True  \n",
       "19     127.540199      8  True  \n",
       "24     127.535828      8  True  \n",
       "218    126.673698      8  True  \n",
       "244    126.686668      8  True  \n",
       "...           ...    ...   ...  \n",
       "15122  128.319534      6  True  \n",
       "15123  128.149399      6  True  \n",
       "15124  128.348450      6  True  \n",
       "15125  128.147186      6  True  \n",
       "15126  128.146835      6  True  \n",
       "\n",
       "[5785 rows x 11 columns]"
      ]
     },
     "execution_count": 305,
     "metadata": {},
     "output_type": "execute_result"
    }
   ],
   "source": [
    "df_dup[df_dup['Dup']==True]"
   ]
  },
  {
   "cell_type": "code",
   "execution_count": 326,
   "id": "d73c2523",
   "metadata": {},
   "outputs": [
    {
     "data": {
      "text/html": [
       "<div>\n",
       "<style scoped>\n",
       "    .dataframe tbody tr th:only-of-type {\n",
       "        vertical-align: middle;\n",
       "    }\n",
       "\n",
       "    .dataframe tbody tr th {\n",
       "        vertical-align: top;\n",
       "    }\n",
       "\n",
       "    .dataframe thead th {\n",
       "        text-align: right;\n",
       "    }\n",
       "</style>\n",
       "<table border=\"1\" class=\"dataframe\">\n",
       "  <thead>\n",
       "    <tr style=\"text-align: right;\">\n",
       "      <th></th>\n",
       "      <th>탐지일시</th>\n",
       "      <th>본부</th>\n",
       "      <th>지사</th>\n",
       "      <th>노선</th>\n",
       "      <th>방향</th>\n",
       "      <th>이정</th>\n",
       "      <th>차로</th>\n",
       "      <th>위도</th>\n",
       "      <th>경도</th>\n",
       "      <th>month</th>\n",
       "    </tr>\n",
       "  </thead>\n",
       "  <tbody>\n",
       "    <tr>\n",
       "      <th>10</th>\n",
       "      <td>2021-08-31 15:23:42</td>\n",
       "      <td>전북본부</td>\n",
       "      <td>무주지사</td>\n",
       "      <td>통영대전선,중부선</td>\n",
       "      <td>통영</td>\n",
       "      <td>172.96</td>\n",
       "      <td>2차로</td>\n",
       "      <td>36.011135</td>\n",
       "      <td>127.584198</td>\n",
       "      <td>8</td>\n",
       "    </tr>\n",
       "  </tbody>\n",
       "</table>\n",
       "</div>"
      ],
      "text/plain": [
       "                  탐지일시    본부    지사         노선  방향      이정   차로         위도  \\\n",
       "10 2021-08-31 15:23:42  전북본부  무주지사  통영대전선,중부선  통영  172.96  2차로  36.011135   \n",
       "\n",
       "            경도  month  \n",
       "10  127.584198      8  "
      ]
     },
     "execution_count": 326,
     "metadata": {},
     "output_type": "execute_result"
    }
   ],
   "source": [
    "ai_detect[(ai_detect['본부']=='전북본부')\n",
    "         &(ai_detect['지사']=='무주지사')\n",
    "         &(ai_detect['노선']=='통영대전선,중부선')\n",
    "         &(ai_detect['방향']=='통영')].head(1)"
   ]
  },
  {
   "cell_type": "code",
   "execution_count": 213,
   "id": "d1ed2aad",
   "metadata": {},
   "outputs": [],
   "source": [
    "ai_detect_all_차로합침_final.rename(columns={'전체_이정기준_줄눈개수':'ai_줄눈개수','전체_이정기준_이동거리':'ai_이동거리'},inplace=True)"
   ]
  },
  {
   "cell_type": "code",
   "execution_count": 214,
   "id": "36019d99",
   "metadata": {},
   "outputs": [],
   "source": [
    "# 데이터 내보내기 \n",
    "ai_detect_all_차로합침_final.to_csv('ai_detect_data.csv',index=False)"
   ]
  },
  {
   "cell_type": "code",
   "execution_count": 215,
   "id": "33dafe8d",
   "metadata": {},
   "outputs": [
    {
     "data": {
      "text/html": [
       "<div>\n",
       "<style scoped>\n",
       "    .dataframe tbody tr th:only-of-type {\n",
       "        vertical-align: middle;\n",
       "    }\n",
       "\n",
       "    .dataframe tbody tr th {\n",
       "        vertical-align: top;\n",
       "    }\n",
       "\n",
       "    .dataframe thead th {\n",
       "        text-align: right;\n",
       "    }\n",
       "</style>\n",
       "<table border=\"1\" class=\"dataframe\">\n",
       "  <thead>\n",
       "    <tr style=\"text-align: right;\">\n",
       "      <th></th>\n",
       "      <th>본부</th>\n",
       "      <th>지사</th>\n",
       "      <th>노선</th>\n",
       "      <th>방향</th>\n",
       "      <th>month</th>\n",
       "      <th>월별_이정기준_줄눈개수</th>\n",
       "      <th>월별_이정기준_이동거리</th>\n",
       "    </tr>\n",
       "  </thead>\n",
       "  <tbody>\n",
       "    <tr>\n",
       "      <th>0</th>\n",
       "      <td>강원본부</td>\n",
       "      <td>강릉지사</td>\n",
       "      <td>동해선</td>\n",
       "      <td>근덕</td>\n",
       "      <td>6</td>\n",
       "      <td>23</td>\n",
       "      <td>39.31</td>\n",
       "    </tr>\n",
       "    <tr>\n",
       "      <th>1</th>\n",
       "      <td>강원본부</td>\n",
       "      <td>강릉지사</td>\n",
       "      <td>동해선</td>\n",
       "      <td>근덕</td>\n",
       "      <td>7</td>\n",
       "      <td>4</td>\n",
       "      <td>2.37</td>\n",
       "    </tr>\n",
       "  </tbody>\n",
       "</table>\n",
       "</div>"
      ],
      "text/plain": [
       "     본부    지사   노선  방향  month  월별_이정기준_줄눈개수  월별_이정기준_이동거리\n",
       "0  강원본부  강릉지사  동해선  근덕      6            23         39.31\n",
       "1  강원본부  강릉지사  동해선  근덕      7             4          2.37"
      ]
     },
     "execution_count": 215,
     "metadata": {},
     "output_type": "execute_result"
    },
    {
     "data": {
      "text/plain": [
       "(306, 7)"
      ]
     },
     "execution_count": 215,
     "metadata": {},
     "output_type": "execute_result"
    }
   ],
   "source": [
    "# 월별 확인\n",
    "ai_detect_month_차로합침_final.head(2)\n",
    "ai_detect_month_차로합침_final.shape"
   ]
  },
  {
   "cell_type": "markdown",
   "id": "eb9dca65",
   "metadata": {},
   "source": [
    "* 실제 탐지 데이터"
   ]
  },
  {
   "cell_type": "code",
   "execution_count": 289,
   "id": "878a900f",
   "metadata": {},
   "outputs": [],
   "source": [
    "real_detect = pd.read_csv('./data/응력완화줄눈현황(연결로제거).csv',encoding='cp949')"
   ]
  },
  {
   "cell_type": "code",
   "execution_count": 290,
   "id": "dd7106c0",
   "metadata": {},
   "outputs": [],
   "source": [
    "## 중복제거 \n",
    "real_detect=real_detect.drop_duplicates()\n",
    "real_detect_drop = real_detect.drop_duplicates(['본부','지사','노선','방향','시공이정'])\n",
    "group5 = real_detect_drop.groupby(['본부','지사','노선','방향'])\n",
    "real_distance = group5['시공이정'].max() - group5['시공이정'].min()\n",
    "real_mean= group5['줄눈폭(2020.8월말 기준)\\n(mm)'].mean()\n",
    "real_count = group5['시공이정'].count()\n",
    "\n",
    "real_detect_final = pd.DataFrame(real_distance.reset_index())\n",
    "real_detect_final['실제_줄눈개수'] = real_count.values\n",
    "real_detect_final['실제_평균줄눈폭'] = real_mean.values\n",
    "real_detect_final.rename(columns={'시공이정':'실제_이동거리'},inplace=True)"
   ]
  },
  {
   "cell_type": "code",
   "execution_count": 291,
   "id": "aff22e01",
   "metadata": {},
   "outputs": [
    {
     "data": {
      "text/html": [
       "<div>\n",
       "<style scoped>\n",
       "    .dataframe tbody tr th:only-of-type {\n",
       "        vertical-align: middle;\n",
       "    }\n",
       "\n",
       "    .dataframe tbody tr th {\n",
       "        vertical-align: top;\n",
       "    }\n",
       "\n",
       "    .dataframe thead th {\n",
       "        text-align: right;\n",
       "    }\n",
       "</style>\n",
       "<table border=\"1\" class=\"dataframe\">\n",
       "  <thead>\n",
       "    <tr style=\"text-align: right;\">\n",
       "      <th></th>\n",
       "      <th>본부</th>\n",
       "      <th>지사</th>\n",
       "      <th>노선</th>\n",
       "      <th>방향</th>\n",
       "      <th>실제_이동거리</th>\n",
       "      <th>실제_줄눈개수</th>\n",
       "      <th>실제_평균줄눈폭</th>\n",
       "    </tr>\n",
       "  </thead>\n",
       "  <tbody>\n",
       "    <tr>\n",
       "      <th>0</th>\n",
       "      <td>강원</td>\n",
       "      <td>강릉</td>\n",
       "      <td>동해선</td>\n",
       "      <td>근덕</td>\n",
       "      <td>72.49</td>\n",
       "      <td>51</td>\n",
       "      <td>36.795918</td>\n",
       "    </tr>\n",
       "    <tr>\n",
       "      <th>1</th>\n",
       "      <td>강원</td>\n",
       "      <td>강릉</td>\n",
       "      <td>동해선</td>\n",
       "      <td>속초</td>\n",
       "      <td>67.85</td>\n",
       "      <td>51</td>\n",
       "      <td>35.039216</td>\n",
       "    </tr>\n",
       "    <tr>\n",
       "      <th>2</th>\n",
       "      <td>강원</td>\n",
       "      <td>양양</td>\n",
       "      <td>동해선</td>\n",
       "      <td>삼척</td>\n",
       "      <td>1.40</td>\n",
       "      <td>3</td>\n",
       "      <td>56.666667</td>\n",
       "    </tr>\n",
       "  </tbody>\n",
       "</table>\n",
       "</div>"
      ],
      "text/plain": [
       "   본부  지사   노선  방향  실제_이동거리  실제_줄눈개수   실제_평균줄눈폭\n",
       "0  강원  강릉  동해선  근덕    72.49       51  36.795918\n",
       "1  강원  강릉  동해선  속초    67.85       51  35.039216\n",
       "2  강원  양양  동해선  삼척     1.40        3  56.666667"
      ]
     },
     "execution_count": 291,
     "metadata": {},
     "output_type": "execute_result"
    }
   ],
   "source": [
    "real_detect_final.head(3)"
   ]
  },
  {
   "cell_type": "markdown",
   "id": "858e90f4",
   "metadata": {},
   "source": [
    "* 최종 데이터"
   ]
  },
  {
   "cell_type": "code",
   "execution_count": 217,
   "id": "758ebf60",
   "metadata": {},
   "outputs": [],
   "source": [
    "# 데이터 불러오기\n",
    "real_detect_df = pd.read_csv('real_detect_data.csv')\n",
    "ai_detect_df  = pd.read_csv('ai_detect_data.csv')"
   ]
  },
  {
   "cell_type": "code",
   "execution_count": 292,
   "id": "40c669f3",
   "metadata": {},
   "outputs": [],
   "source": [
    "real_detect_df = real_detect_final.copy()"
   ]
  },
  {
   "cell_type": "markdown",
   "id": "291f2637",
   "metadata": {},
   "source": [
    "명칭통일하기"
   ]
  },
  {
   "cell_type": "code",
   "execution_count": 293,
   "id": "b1057704",
   "metadata": {},
   "outputs": [],
   "source": [
    "# 명칭 통일하기\n",
    "real_detect_df['본부']=real_detect_df['본부'] +'본부'\n",
    "real_detect_df['지사']=real_detect_df['지사'] +'지사'"
   ]
  },
  {
   "cell_type": "code",
   "execution_count": 294,
   "id": "24f381a9",
   "metadata": {},
   "outputs": [
    {
     "name": "stdout",
     "output_type": "stream",
     "text": [
      "실제 - 본부 : set()\n",
      "ai - 본부 : set()\n",
      "\n",
      "실제 - 지사 : {'동서울지사'}\n",
      "ai - 지사 : {'남원지사', '청송지사', '수원지사', '대관령지사', '대전지사', '보성지사'}\n",
      "\n",
      "실제 - 노선 : {'중앙지선', '호남선', '부산울산선', '통영대전선', '중부내륙지선', '고창담양선', '서울외곽선', '중부선', '호남지선', '제2경인선', '울산포항선', '남해선', '대남선', '청주영덕선', '대전당진선', '새만금포항선지선', '새만금포항선', '중부내륙'}\n",
      "ai - 노선 : {'상주영덕선', '남해선(순천부산)', '울산선', '남해제2지선', '중부내륙선의 지선', '부산포항선', '수도권제1순환선', '호남선의 지선', '제2경인선(인천안양)', '논산천안선,호남선', '대전남부순환선', '통영대전선,중부선', '청주상주선', '남해선(영암순천)', '중앙선의 지선'}\n",
      "\n",
      "실제 - 방향 : {'산인', '충주', '비룡', '성남', '고창', '진입', '남이', '퇴계원', '진출', '양산', ' 서울', '삼척', '담양', '연결로'}\n",
      "ai - 방향 : {'언양', '산내', '영암', '안양', '이천', '함안', '상주'}\n",
      "\n"
     ]
    }
   ],
   "source": [
    "# 본부 찾아보기 \n",
    "\n",
    "name_list= ['본부','지사','노선','방향']\n",
    "\n",
    "for i in name_list:\n",
    "    set_ai = set(ai_detect_df[i].unique()) - set(real_detect_df[i].unique())\n",
    "    set_real = set(real_detect_df[i].unique()) - set(ai_detect_df[i].unique()) \n",
    "    \n",
    "    \n",
    "    print('실제 - {0} : {1}'.format(i,set_real))\n",
    "    print('ai - {0} : {1}'.format(i,set_ai) )\n",
    "    print()\n"
   ]
  },
  {
   "cell_type": "markdown",
   "id": "ff79639a",
   "metadata": {},
   "source": [
    "전처리 방향 - 서울 빈칸제거"
   ]
  },
  {
   "cell_type": "code",
   "execution_count": 295,
   "id": "33501520",
   "metadata": {
    "scrolled": true
   },
   "outputs": [],
   "source": [
    "real_detect_df[real_detect_df['방향']==' 서울'].iloc[0][3] = '서울'"
   ]
  },
  {
   "cell_type": "markdown",
   "id": "0c5516cd",
   "metadata": {},
   "source": [
    "* 최종 데이터"
   ]
  },
  {
   "cell_type": "code",
   "execution_count": 296,
   "id": "7ff58219",
   "metadata": {},
   "outputs": [],
   "source": [
    "final_df = pd.merge(real_detect_df,ai_detect_df,on=['본부','지사','노선','방향'],how='inner')"
   ]
  },
  {
   "cell_type": "code",
   "execution_count": 297,
   "id": "5045f5e1",
   "metadata": {},
   "outputs": [],
   "source": [
    "# 개수 비교하기 \n",
    "final_df['실제_줄눈탐지_비율'] = final_df['실제_줄눈개수']/final_df['실제_이동거리']\n",
    "final_df['ai_줄눈탐지_비율'] = final_df['ai_줄눈개수']/final_df['ai_이동거리']"
   ]
  },
  {
   "cell_type": "markdown",
   "id": "304cf121",
   "metadata": {},
   "source": [
    "# 3. EDA"
   ]
  },
  {
   "cell_type": "markdown",
   "id": "082287f6",
   "metadata": {},
   "source": [
    "* 실제와의 비교 "
   ]
  },
  {
   "cell_type": "code",
   "execution_count": 368,
   "id": "91fae3a2",
   "metadata": {},
   "outputs": [
    {
     "data": {
      "text/html": [
       "<div>\n",
       "<style scoped>\n",
       "    .dataframe tbody tr th:only-of-type {\n",
       "        vertical-align: middle;\n",
       "    }\n",
       "\n",
       "    .dataframe tbody tr th {\n",
       "        vertical-align: top;\n",
       "    }\n",
       "\n",
       "    .dataframe thead th {\n",
       "        text-align: right;\n",
       "    }\n",
       "</style>\n",
       "<table border=\"1\" class=\"dataframe\">\n",
       "  <thead>\n",
       "    <tr style=\"text-align: right;\">\n",
       "      <th></th>\n",
       "      <th>본부</th>\n",
       "      <th>지사</th>\n",
       "      <th>노선</th>\n",
       "      <th>방향</th>\n",
       "      <th>실제_이동거리</th>\n",
       "      <th>실제_줄눈개수</th>\n",
       "      <th>실제_평균줄눈폭</th>\n",
       "      <th>ai_줄눈개수</th>\n",
       "      <th>ai_이동거리</th>\n",
       "      <th>실제_줄눈탐지_비율</th>\n",
       "      <th>ai_줄눈탐지_비율</th>\n",
       "    </tr>\n",
       "  </thead>\n",
       "  <tbody>\n",
       "    <tr>\n",
       "      <th>0</th>\n",
       "      <td>강원본부</td>\n",
       "      <td>강릉지사</td>\n",
       "      <td>동해선</td>\n",
       "      <td>근덕</td>\n",
       "      <td>72.49</td>\n",
       "      <td>51</td>\n",
       "      <td>36.795918</td>\n",
       "      <td>26</td>\n",
       "      <td>39.31</td>\n",
       "      <td>0.703545</td>\n",
       "      <td>0.661409</td>\n",
       "    </tr>\n",
       "    <tr>\n",
       "      <th>1</th>\n",
       "      <td>강원본부</td>\n",
       "      <td>강릉지사</td>\n",
       "      <td>동해선</td>\n",
       "      <td>속초</td>\n",
       "      <td>67.85</td>\n",
       "      <td>51</td>\n",
       "      <td>35.039216</td>\n",
       "      <td>26</td>\n",
       "      <td>35.64</td>\n",
       "      <td>0.751658</td>\n",
       "      <td>0.729517</td>\n",
       "    </tr>\n",
       "    <tr>\n",
       "      <th>2</th>\n",
       "      <td>강원본부</td>\n",
       "      <td>원주지사</td>\n",
       "      <td>영동선</td>\n",
       "      <td>강릉</td>\n",
       "      <td>15.86</td>\n",
       "      <td>4</td>\n",
       "      <td>42.750000</td>\n",
       "      <td>32</td>\n",
       "      <td>36.97</td>\n",
       "      <td>0.252207</td>\n",
       "      <td>0.865567</td>\n",
       "    </tr>\n",
       "  </tbody>\n",
       "</table>\n",
       "</div>"
      ],
      "text/plain": [
       "     본부    지사   노선  방향  실제_이동거리  실제_줄눈개수   실제_평균줄눈폭  ai_줄눈개수  ai_이동거리  \\\n",
       "0  강원본부  강릉지사  동해선  근덕    72.49       51  36.795918       26    39.31   \n",
       "1  강원본부  강릉지사  동해선  속초    67.85       51  35.039216       26    35.64   \n",
       "2  강원본부  원주지사  영동선  강릉    15.86        4  42.750000       32    36.97   \n",
       "\n",
       "   실제_줄눈탐지_비율  ai_줄눈탐지_비율  \n",
       "0    0.703545    0.661409  \n",
       "1    0.751658    0.729517  \n",
       "2    0.252207    0.865567  "
      ]
     },
     "execution_count": 368,
     "metadata": {},
     "output_type": "execute_result"
    }
   ],
   "source": [
    "final_df.head(3)"
   ]
  },
  {
   "cell_type": "code",
   "execution_count": 316,
   "id": "1c95244c",
   "metadata": {
    "scrolled": true
   },
   "outputs": [
    {
     "data": {
      "text/html": [
       "<div>\n",
       "<style scoped>\n",
       "    .dataframe tbody tr th:only-of-type {\n",
       "        vertical-align: middle;\n",
       "    }\n",
       "\n",
       "    .dataframe tbody tr th {\n",
       "        vertical-align: top;\n",
       "    }\n",
       "\n",
       "    .dataframe thead th {\n",
       "        text-align: right;\n",
       "    }\n",
       "</style>\n",
       "<table border=\"1\" class=\"dataframe\">\n",
       "  <thead>\n",
       "    <tr style=\"text-align: right;\">\n",
       "      <th></th>\n",
       "      <th>실제_이동거리</th>\n",
       "      <th>실제_줄눈개수</th>\n",
       "      <th>실제_평균줄눈폭</th>\n",
       "      <th>ai_줄눈개수</th>\n",
       "      <th>ai_이동거리</th>\n",
       "      <th>실제_줄눈탐지_비율</th>\n",
       "      <th>ai_줄눈탐지_비율</th>\n",
       "    </tr>\n",
       "  </thead>\n",
       "  <tbody>\n",
       "    <tr>\n",
       "      <th>count</th>\n",
       "      <td>63.000000</td>\n",
       "      <td>63.000000</td>\n",
       "      <td>62.000000</td>\n",
       "      <td>63.000000</td>\n",
       "      <td>63.000000</td>\n",
       "      <td>63.000000</td>\n",
       "      <td>63.000000</td>\n",
       "    </tr>\n",
       "    <tr>\n",
       "      <th>mean</th>\n",
       "      <td>44.597619</td>\n",
       "      <td>44.126984</td>\n",
       "      <td>40.557144</td>\n",
       "      <td>92.984127</td>\n",
       "      <td>40.537143</td>\n",
       "      <td>inf</td>\n",
       "      <td>inf</td>\n",
       "    </tr>\n",
       "    <tr>\n",
       "      <th>std</th>\n",
       "      <td>24.660834</td>\n",
       "      <td>48.736451</td>\n",
       "      <td>9.193364</td>\n",
       "      <td>144.323169</td>\n",
       "      <td>25.561099</td>\n",
       "      <td>NaN</td>\n",
       "      <td>NaN</td>\n",
       "    </tr>\n",
       "    <tr>\n",
       "      <th>min</th>\n",
       "      <td>0.000000</td>\n",
       "      <td>1.000000</td>\n",
       "      <td>21.954545</td>\n",
       "      <td>1.000000</td>\n",
       "      <td>0.000000</td>\n",
       "      <td>0.069268</td>\n",
       "      <td>0.082759</td>\n",
       "    </tr>\n",
       "    <tr>\n",
       "      <th>25%</th>\n",
       "      <td>28.290000</td>\n",
       "      <td>8.500000</td>\n",
       "      <td>34.091216</td>\n",
       "      <td>6.000000</td>\n",
       "      <td>19.775000</td>\n",
       "      <td>0.367132</td>\n",
       "      <td>0.571060</td>\n",
       "    </tr>\n",
       "    <tr>\n",
       "      <th>50%</th>\n",
       "      <td>45.800000</td>\n",
       "      <td>24.000000</td>\n",
       "      <td>39.186047</td>\n",
       "      <td>26.000000</td>\n",
       "      <td>39.390000</td>\n",
       "      <td>0.773515</td>\n",
       "      <td>1.082183</td>\n",
       "    </tr>\n",
       "    <tr>\n",
       "      <th>75%</th>\n",
       "      <td>64.515000</td>\n",
       "      <td>67.000000</td>\n",
       "      <td>46.583333</td>\n",
       "      <td>104.000000</td>\n",
       "      <td>59.450000</td>\n",
       "      <td>1.343759</td>\n",
       "      <td>2.645298</td>\n",
       "    </tr>\n",
       "    <tr>\n",
       "      <th>max</th>\n",
       "      <td>89.100000</td>\n",
       "      <td>176.000000</td>\n",
       "      <td>64.615385</td>\n",
       "      <td>617.000000</td>\n",
       "      <td>88.850000</td>\n",
       "      <td>inf</td>\n",
       "      <td>inf</td>\n",
       "    </tr>\n",
       "  </tbody>\n",
       "</table>\n",
       "</div>"
      ],
      "text/plain": [
       "         실제_이동거리     실제_줄눈개수   실제_평균줄눈폭     ai_줄눈개수    ai_이동거리  실제_줄눈탐지_비율  \\\n",
       "count  63.000000   63.000000  62.000000   63.000000  63.000000   63.000000   \n",
       "mean   44.597619   44.126984  40.557144   92.984127  40.537143         inf   \n",
       "std    24.660834   48.736451   9.193364  144.323169  25.561099         NaN   \n",
       "min     0.000000    1.000000  21.954545    1.000000   0.000000    0.069268   \n",
       "25%    28.290000    8.500000  34.091216    6.000000  19.775000    0.367132   \n",
       "50%    45.800000   24.000000  39.186047   26.000000  39.390000    0.773515   \n",
       "75%    64.515000   67.000000  46.583333  104.000000  59.450000    1.343759   \n",
       "max    89.100000  176.000000  64.615385  617.000000  88.850000         inf   \n",
       "\n",
       "       ai_줄눈탐지_비율  \n",
       "count   63.000000  \n",
       "mean          inf  \n",
       "std           NaN  \n",
       "min      0.082759  \n",
       "25%      0.571060  \n",
       "50%      1.082183  \n",
       "75%      2.645298  \n",
       "max           inf  "
      ]
     },
     "execution_count": 316,
     "metadata": {},
     "output_type": "execute_result"
    }
   ],
   "source": [
    "final_df.describe()\n",
    "\n",
    "# ai_줄눈탐지_비율이 inf인게 3개 나옴"
   ]
  },
  {
   "cell_type": "code",
   "execution_count": 327,
   "id": "dbd8c9fe",
   "metadata": {},
   "outputs": [],
   "source": [
    "import matplotlib.pyplot as plt\n",
    "import matplotlib.font_manager as fm\n",
    "import seaborn as sns"
   ]
  },
  {
   "cell_type": "code",
   "execution_count": 329,
   "id": "778e3ed9",
   "metadata": {
    "scrolled": true
   },
   "outputs": [
    {
     "data": {
      "text/html": [
       "<div>\n",
       "<style scoped>\n",
       "    .dataframe tbody tr th:only-of-type {\n",
       "        vertical-align: middle;\n",
       "    }\n",
       "\n",
       "    .dataframe tbody tr th {\n",
       "        vertical-align: top;\n",
       "    }\n",
       "\n",
       "    .dataframe thead th {\n",
       "        text-align: right;\n",
       "    }\n",
       "</style>\n",
       "<table border=\"1\" class=\"dataframe\">\n",
       "  <thead>\n",
       "    <tr style=\"text-align: right;\">\n",
       "      <th></th>\n",
       "      <th>실제_줄눈개수</th>\n",
       "      <th>ai_줄눈개수</th>\n",
       "      <th>실제_줄눈탐지_비율</th>\n",
       "      <th>ai_줄눈탐지_비율</th>\n",
       "    </tr>\n",
       "  </thead>\n",
       "  <tbody>\n",
       "    <tr>\n",
       "      <th>실제_줄눈개수</th>\n",
       "      <td>1.000000</td>\n",
       "      <td>0.890780</td>\n",
       "      <td>-0.053555</td>\n",
       "      <td>0.173099</td>\n",
       "    </tr>\n",
       "    <tr>\n",
       "      <th>ai_줄눈개수</th>\n",
       "      <td>0.890780</td>\n",
       "      <td>1.000000</td>\n",
       "      <td>-0.027972</td>\n",
       "      <td>0.237384</td>\n",
       "    </tr>\n",
       "    <tr>\n",
       "      <th>실제_줄눈탐지_비율</th>\n",
       "      <td>-0.053555</td>\n",
       "      <td>-0.027972</td>\n",
       "      <td>1.000000</td>\n",
       "      <td>0.961032</td>\n",
       "    </tr>\n",
       "    <tr>\n",
       "      <th>ai_줄눈탐지_비율</th>\n",
       "      <td>0.173099</td>\n",
       "      <td>0.237384</td>\n",
       "      <td>0.961032</td>\n",
       "      <td>1.000000</td>\n",
       "    </tr>\n",
       "  </tbody>\n",
       "</table>\n",
       "</div>"
      ],
      "text/plain": [
       "             실제_줄눈개수   ai_줄눈개수  실제_줄눈탐지_비율  ai_줄눈탐지_비율\n",
       "실제_줄눈개수     1.000000  0.890780   -0.053555    0.173099\n",
       "ai_줄눈개수     0.890780  1.000000   -0.027972    0.237384\n",
       "실제_줄눈탐지_비율 -0.053555 -0.027972    1.000000    0.961032\n",
       "ai_줄눈탐지_비율  0.173099  0.237384    0.961032    1.000000"
      ]
     },
     "execution_count": 329,
     "metadata": {},
     "output_type": "execute_result"
    }
   ],
   "source": [
    "# 실제와 ai 상관도 분석 \n",
    "final_df[['실제_줄눈개수','ai_줄눈개수','실제_줄눈탐지_비율','ai_줄눈탐지_비율']].corr()"
   ]
  },
  {
   "cell_type": "code",
   "execution_count": 367,
   "id": "704f77c5",
   "metadata": {},
   "outputs": [
    {
     "data": {
      "text/plain": [
       "<AxesSubplot:>"
      ]
     },
     "execution_count": 367,
     "metadata": {},
     "output_type": "execute_result"
    },
    {
     "data": {
      "text/plain": [
       "Text(0.5, 1.0, '실제 줄눈 탐지와 ai 줄눈 탐지 간의 상관관계')"
      ]
     },
     "execution_count": 367,
     "metadata": {},
     "output_type": "execute_result"
    },
    {
     "data": {
      "image/png": "[encoded data removed]",
      "text/plain": [
       "<Figure size 432x288 with 2 Axes>"
      ]
     },
     "metadata": {
      "needs_background": "light"
     },
     "output_type": "display_data"
    }
   ],
   "source": [
    "## 시각화 1 - Heatmap\n",
    "plt.rcParams['font.family'] ='NanumGothic'\n",
    "비교_corr=final_df[['실제_줄눈개수','ai_줄눈개수','실제_줄눈탐지_비율','ai_줄눈탐지_비율']].corr()\n",
    "\n",
    "# 삼각형 마스크를 만든다(위 쪽 삼각형에 True, 아래 삼각형에 False)\n",
    "mask = np.zeros_like(비교_corr, dtype=np.bool)\n",
    "mask[np.triu_indices_from(mask)] = True\n",
    "\n",
    "# 히트맵을 그린다\n",
    "sns.heatmap(비교_corr, \n",
    "            cmap = 'RdYlBu_r', \n",
    "            annot = True,   # 실제 값을 표시한다\n",
    "            mask=mask,      # 표시하지 않을 마스크 부분을 지정한다\n",
    "            linewidths=.5,  # 경계면 실선으로 구분하기\n",
    "            cbar_kws={\"shrink\": .5},# 컬러바 크기 절반으로 줄이기\n",
    "            vmin = -1,vmax = 1   # 컬러바 범위 -1 ~ 1\n",
    "           )\n",
    "\n",
    "plt.rcParams['font.family'] ='NanumGothic'\n",
    "plt.title('실제 줄눈 탐지와 ai 줄눈 탐지 간의 상관관계', fontsize=20)  \n",
    "plt.show()"
   ]
  },
  {
   "cell_type": "code",
   "execution_count": 361,
   "id": "b9524bb9",
   "metadata": {},
   "outputs": [
    {
     "data": {
      "text/plain": [
       "<Figure size 1080x360 with 0 Axes>"
      ]
     },
     "execution_count": 361,
     "metadata": {},
     "output_type": "execute_result"
    },
    {
     "data": {
      "text/plain": [
       "[<matplotlib.lines.Line2D at 0x1ceebf90f10>]"
      ]
     },
     "execution_count": 361,
     "metadata": {},
     "output_type": "execute_result"
    },
    {
     "data": {
      "text/plain": [
       "[<matplotlib.lines.Line2D at 0x1ceebf9c2e0>]"
      ]
     },
     "execution_count": 361,
     "metadata": {},
     "output_type": "execute_result"
    },
    {
     "data": {
      "text/plain": [
       "Text(0, 0.5, '줄눈 탐지 건수')"
      ]
     },
     "execution_count": 361,
     "metadata": {},
     "output_type": "execute_result"
    },
    {
     "data": {
      "text/plain": [
       "Text(0.5, 1.0, '실제 줄눈 탐지 건수와 ai 줄눈 탐지 건수')"
      ]
     },
     "execution_count": 361,
     "metadata": {},
     "output_type": "execute_result"
    },
    {
     "data": {
      "text/plain": [
       "<matplotlib.legend.Legend at 0x1ceeb06e910>"
      ]
     },
     "execution_count": 361,
     "metadata": {},
     "output_type": "execute_result"
    },
    {
     "data": {
      "image/png": "[encoded data removed]",
      "text/plain": [
       "<Figure size 1080x360 with 1 Axes>"
      ]
     },
     "metadata": {
      "needs_background": "light"
     },
     "output_type": "display_data"
    }
   ],
   "source": [
    "# 시각화1 - 선그래프\n",
    "\n",
    "plt.rcParams['font.family'] ='NanumGothic'\n",
    "\n",
    "#index = np.arange(len(total_df))\n",
    "plt.figure(figsize=(15,5))\n",
    "         \n",
    "# 선그래프\n",
    "plt.plot(final_df[['실제_줄눈개수']],label= '실제_줄눈탐지',color='red')\n",
    "plt.plot(final_df[['ai_줄눈개수']],label= 'ai_줄눈탐지')\n",
    "\n",
    "plt.ylabel('줄눈 탐지 건수', fontsize=18)\n",
    "plt.title('실제 줄눈 탐지 건수와 ai 줄눈 탐지 건수', fontsize=20)  \n",
    "plt.legend()\n",
    "plt.show()"
   ]
  },
  {
   "cell_type": "code",
   "execution_count": 365,
   "id": "a2ef8206",
   "metadata": {},
   "outputs": [
    {
     "data": {
      "text/plain": [
       "<Figure size 1080x360 with 0 Axes>"
      ]
     },
     "execution_count": 365,
     "metadata": {},
     "output_type": "execute_result"
    },
    {
     "data": {
      "text/plain": [
       "[<matplotlib.lines.Line2D at 0x1ceec982610>]"
      ]
     },
     "execution_count": 365,
     "metadata": {},
     "output_type": "execute_result"
    },
    {
     "data": {
      "text/plain": [
       "[<matplotlib.lines.Line2D at 0x1ceec9829a0>]"
      ]
     },
     "execution_count": 365,
     "metadata": {},
     "output_type": "execute_result"
    },
    {
     "data": {
      "text/plain": [
       "Text(0, 0.5, '줄눈탐지 비율 ')"
      ]
     },
     "execution_count": 365,
     "metadata": {},
     "output_type": "execute_result"
    },
    {
     "data": {
      "text/plain": [
       "Text(0.5, 1.0, '실제 줄눈 탐지 이동거리 대비 줄눈탐지 건수')"
      ]
     },
     "execution_count": 365,
     "metadata": {},
     "output_type": "execute_result"
    },
    {
     "data": {
      "text/plain": [
       "<matplotlib.legend.Legend at 0x1ceec7c5fa0>"
      ]
     },
     "execution_count": 365,
     "metadata": {},
     "output_type": "execute_result"
    },
    {
     "data": {
      "image/png": "[encoded data removed]",
      "text/plain": [
       "<Figure size 1080x360 with 1 Axes>"
      ]
     },
     "metadata": {
      "needs_background": "light"
     },
     "output_type": "display_data"
    }
   ],
   "source": [
    "# 시각화1 - 선그래프\n",
    "\n",
    "plt.rcParams['font.family'] ='NanumGothic'\n",
    "\n",
    "#index = np.arange(len(total_df))\n",
    "plt.figure(figsize=(15,5))\n",
    "         \n",
    "# 선그래프\n",
    "plt.plot(final_df[['실제_줄눈탐지_비율']],label= '실제_줄눈탐지_비율',color='red')\n",
    "plt.plot(final_df[['ai_줄눈탐지_비율']],label= 'ai_줄눈탐지_비율')\n",
    "plt.ylabel('줄눈탐지 비율 ', fontsize=18)\n",
    "plt.title('실제 줄눈 탐지 이동거리 대비 줄눈탐지 건수', fontsize=20)  \n",
    "plt.legend()\n",
    "plt.show()"
   ]
  },
  {
   "cell_type": "code",
   "execution_count": null,
   "id": "34b90ea6",
   "metadata": {},
   "outputs": [],
   "source": []
  }
 ],
 "metadata": {
  "kernelspec": {
   "display_name": "Python 3",
   "language": "python",
   "name": "python3"
  },
  "language_info": {
   "codemirror_mode": {
    "name": "ipython",
    "version": 3
   },
   "file_extension": ".py",
   "mimetype": "text/x-python",
   "name": "python",
   "nbconvert_exporter": "python",
   "pygments_lexer": "ipython3",
   "version": "3.8.8"
  }
 },
 "nbformat": 4,
 "nbformat_minor": 5
}
