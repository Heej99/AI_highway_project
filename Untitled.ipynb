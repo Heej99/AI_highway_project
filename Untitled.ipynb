{
 "cells": [
  {
   "cell_type": "code",
   "execution_count": 1,
   "id": "376921c5-2deb-4849-be36-e82d5e753cb1",
   "metadata": {},
   "outputs": [],
   "source": [
    "import tensorflow as tf\n",
    "\n",
    "from simple_unet_model import simple_unet_model   #Use normal unet model\n",
    "import os\n",
    "import cv2\n",
    "from PIL import Image\n",
    "import numpy as np\n",
    "from matplotlib import pyplot as plt"
   ]
  },
  {
   "cell_type": "code",
   "execution_count": 2,
   "id": "606f8dee-17ae-4ccd-85bd-ec2473de6a8f",
   "metadata": {},
   "outputs": [],
   "source": [
    "filepath = os.getcwd()\n",
    "image_directory = 'data/patches/image/'\n",
    "mask_directory = 'data/patches/mask/'\n",
    "\n",
    "\n",
    "SIZE = 512\n",
    "image_dataset = []  #Many ways to handle data, you can use pandas. Here, we are using a list format.  \n",
    "mask_dataset = []  #Place holders to define add labels. We will add 0 to all parasitized images and 1 to uninfected.\n",
    "\n",
    "images = os.listdir(image_directory)\n",
    "for i, image_name in enumerate(images):    #Remember enumerate method adds a counter and returns the enumerate object\n",
    "    if (image_name.split('.')[1] == 'jpg'):\n",
    "        #print(image_directory+image_name)\n",
    "        image = cv2.imread(image_directory+image_name, 0) # graysca\n",
    "        image = Image.fromarray(image)  # NumPy 배열을PIL 이미지로 변환하는 방법\n",
    "        image = image.resize((SIZE, SIZE))\n",
    "        image_dataset.append(np.array(image))\n",
    "\n",
    "#Iterate through all images in Uninfected folder, resize to 64 x 64\n",
    "#Then save into the same numpy array 'dataset' but with label 1\n",
    "\n",
    "masks = os.listdir(mask_directory)\n",
    "for i, image_name in enumerate(masks):\n",
    "    if (image_name.split('.')[1] == 'jpg'):\n",
    "        image = cv2.imread(mask_directory+image_name, 0)\n",
    "        image = Image.fromarray(image)\n",
    "        image = image.resize((SIZE, SIZE))\n",
    "        mask_dataset.append(np.array(image))"
   ]
  },
  {
   "cell_type": "code",
   "execution_count": 6,
   "id": "6c99ba58-e0f8-41a6-86ed-7a6167f170dc",
   "metadata": {},
   "outputs": [
    {
     "name": "stdout",
     "output_type": "stream",
     "text": [
      "0 GH020070_0_0_2.jpg\n",
      "jpg\n"
     ]
    }
   ],
   "source": [
    "images = os.listdir(image_directory)\n",
    "for i, image_name in enumerate(images):\n",
    "    print(i,image_name)\n",
    "    if (image_name.split('.')[1] == 'jpg'):\n",
    "        print(image_name.split('.')[1])\n",
    "    break"
   ]
  },
  {
   "cell_type": "code",
   "execution_count": 7,
   "id": "98e178b6-d8c9-4910-982c-b6ba65099a95",
   "metadata": {},
   "outputs": [],
   "source": [
    "image_dataset = np.expand_dims(tf.keras.utils.normalize(np.array(image_dataset), axis=1),3)"
   ]
  },
  {
   "cell_type": "code",
   "execution_count": 12,
   "id": "10e767fe-6cdf-4d8f-8160-aaad113db745",
   "metadata": {},
   "outputs": [],
   "source": [
    "mask_dataset = np.expand_dims((np.array(mask_dataset)), 3) /255."
   ]
  },
  {
   "cell_type": "code",
   "execution_count": null,
   "id": "21e0a939-6dc8-47ab-bd72-79988a660d17",
   "metadata": {},
   "outputs": [],
   "source": [
    "plt.figure(figsize=(12, 6))\n",
    "plt.subplot(121)\n",
    "plt.imshow(np.reshape(X_train[image_number], (SIZE, SIZE)), cmap='gray')\n",
    "plt.subplot(122)\n",
    "plt.imshow(np.reshape(y_train[image_number], (SIZE, SIZE)), cmap='gray')\n",
    "plt.show()"
   ]
  }
 ],
 "metadata": {
  "kernelspec": {
   "display_name": "Python 3",
   "language": "python",
   "name": "python3"
  },
  "language_info": {
   "codemirror_mode": {
    "name": "ipython",
    "version": 3
   },
   "file_extension": ".py",
   "mimetype": "text/x-python",
   "name": "python",
   "nbconvert_exporter": "python",
   "pygments_lexer": "ipython3",
   "version": "3.8.8"
  }
 },
 "nbformat": 4,
 "nbformat_minor": 5
}
