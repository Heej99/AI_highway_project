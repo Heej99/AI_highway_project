{
 "cells": [
  {
   "cell_type": "markdown",
   "id": "398d185c-baff-407e-9546-eca541c9e4e5",
   "metadata": {},
   "source": [
    "## 파노라마 정사영 파라미터 변환\n",
    "\n",
    "방법 : 임의로 사진을 가지고 와서, 직선 구한 후 소실점과 정사영 점 들 찾기 <- 모든 사진마다 정사영 점이 다르기 때문에 제대로 안됨"
   ]
  },
  {
   "cell_type": "code",
   "execution_count": null,
   "id": "41933f99-c277-4a91-b61f-65a34a0ee959",
   "metadata": {},
   "outputs": [],
   "source": [
    "import cv2\n",
    " \n",
    "class homographyMat:\n",
    "    \n",
    "    def __init__(self):      \n",
    "      self.point = []\n",
    "       \n",
    "    def onMouse(self, event, x, y, flags, param): # 마우스 이벤트 처리 콜백 함수 구현\n",
    "        if event == cv2.EVENT_LBUTTONDOWN:\n",
    "            cv2.circle(img, (x,y), 3, (0,255,0), -1) # 좌표에 초록색 동그라미 표시\n",
    "            cv2.imshow('image', img)\n",
    "            self.point.append((x,y))     # 마우스 좌표 저장\n",
    "\n",
    "    \n",
    "\n",
    "img = cv2.imread(\"data/FHD/fhd_1.jpg\") # 이미지 파일 불러들이기\n",
    "cv2.imshow('image', img)\n",
    "\n",
    "getPoint = homographyMat()    \n",
    "cv2.setMouseCallback('image', getPoint.onMouse)\n",
    "\n",
    "cv2.waitKey(0)\n",
    "cv2.destroyAllWindows()\n",
    "\n",
    "for i in getPoint.point:\n",
    "    print(i)\n",
    "    "
   ]
  },
  {
   "cell_type": "code",
   "execution_count": null,
   "id": "6ff0c115-b5a1-4abd-b22b-2c085e9c43d6",
   "metadata": {},
   "outputs": [],
   "source": [
    "import cv2\n",
    "import numpy as np\n",
    "import os\n",
    "\n",
    "img = cv2.imread(\"data/FHD/fhd_1.jpg\") # 이미지 파일 불러들이기\n",
    "print(img.shape)\n",
    "left0 = (948, 342)\n",
    "left1 = (0,702)\n",
    "right0 = (948,342)\n",
    "right1 = (1920,663)\n",
    "topHeight= 545\n",
    "width = img.shape[0]\n",
    "height = img.shape[1]\n",
    "horizontalTan = 0\n",
    "\n",
    "down = (horizontalTan, height-horizontalTan)\n",
    "\n",
    "\n",
    "left = [left0, left1]\n",
    "right = [right0, right1]\n",
    "up0 = (int(width/2), topHeight)\n",
    "up1 = (width, int(topHeight+horizontalTan*width/2))\n",
    "\n",
    "red = (0,0,255) # (blue,green,red) 0~255\n",
    "\n",
    "# 좌표계 : 좌측상단(0,0), x축 오른쪽으로 증가 , y측 아래로 증가\n",
    "# https://copycoding.tistory.com/145 참고\n",
    "img = cv2.line(img,left0, left1, red, 2 ) # cv.line(img, pt1, pt2, 기타 옵션)  pt1 : 시작점, pt2 : 종료점\n",
    "img = cv2.line(img, right0, right1, red, 2)\n",
    "img = cv2.line(img, up0, up1, red, 2)\n",
    "#img = cv2.line(img, down, red, 2)\n",
    "\n",
    "cv2.imshow('image', img)\n",
    "cv2.waitKey()\n",
    "cv2.destroyAllWindows()"
   ]
  }
 ],
 "metadata": {
  "kernelspec": {
   "display_name": "Python 3",
   "language": "python",
   "name": "python3"
  },
  "language_info": {
   "codemirror_mode": {
    "name": "ipython",
    "version": 3
   },
   "file_extension": ".py",
   "mimetype": "text/x-python",
   "name": "python",
   "nbconvert_exporter": "python",
   "pygments_lexer": "ipython3",
   "version": "3.8.8"
  }
 },
 "nbformat": 4,
 "nbformat_minor": 5
}
