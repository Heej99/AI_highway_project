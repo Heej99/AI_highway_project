{
 "cells": [
  {
   "cell_type": "markdown",
   "id": "dfb2d34e",
   "metadata": {},
   "source": [
    "바꾼것 정리  \n",
    "\n",
    "- 1. config에 있는 데이터셋 경로 ( ROOT~ -> ./data/\n",
    "- 2. training_data_example/image => training_data_example/gt_image로 바꿈\n",
    "- 3. python tools/make_tusimple_tfrecords.py에 패키지 import 경로 추가\n",
    "\n",
    "알아낸 것 \n",
    "- 1. config <- 데이터 어떻게 할지 batchsize 같은거 모두 정리해둔 파일"
   ]
  },
  {
   "cell_type": "code",
   "execution_count": 1,
   "id": "8da9c23d-067c-481b-82b9-3c403193e954",
   "metadata": {},
   "outputs": [
    {
     "name": "stdout",
     "output_type": "stream",
     "text": [
      "WARNING:tensorflow:From /home/user/anaconda3/envs/lanenet/lib/python3.6/site-packages/tensorflow/python/compat/v2_compat.py:96: disable_resource_variables (from tensorflow.python.ops.variable_scope) is deprecated and will be removed in a future version.\n",
      "Instructions for updating:\n",
      "non-resource variables are not supported in the long term\n"
     ]
    }
   ],
   "source": [
    "import sys \n",
    "sys.path.append(\"/home/user/lanenet/panorama/\")\n",
    "from config.read_config import config_\n",
    "\n",
    "PATH_CFG = config_(\"/home/user/lanenet/config/path.yaml\")\n",
    "\n",
    "\n",
    "# UUser-Defined Function\n",
    "sys.path.extend(PATH_CFG['FUNC_PATH'])\n",
    "\n",
    "from data_provider import lanenet_data_feed_pipline\n",
    "from local_utils.log_util import init_logger\n",
    "\n",
    "LOG = init_logger.get_logger(log_file_name_prefix='generate_tusimple_tfrecords')"
   ]
  },
  {
   "cell_type": "code",
   "execution_count": 2,
   "id": "15d07abd",
   "metadata": {},
   "outputs": [],
   "source": [
    "def generate_tfrecords():\n",
    "    \"\"\"\n",
    "\n",
    "    :return:\n",
    "    \"\"\"\n",
    "    producer = lanenet_data_feed_pipline.LaneNetDataProducer()\n",
    "    producer.generate_tfrecords()\n",
    "\n",
    "    return"
   ]
  },
  {
   "cell_type": "code",
   "execution_count": 3,
   "id": "9997b5ca",
   "metadata": {},
   "outputs": [
    {
     "name": "stderr",
     "output_type": "stream",
     "text": [
      "2022-02-10 11:40:21.634 | INFO     | data_provider.lanenet_data_feed_pipline:_generate_training_example_index_file:217 - Generating training example index file complete\n",
      "2022-02-10 11:40:21.634 | INFO     | data_provider.lanenet_data_feed_pipline:generate_tfrecords:88 - Start generating training example tfrecords\n",
      "I0210 11:40:21.634809 15838 tf_io_pipline_tools.py:59] Writing /home/user/lanenet/data/training_data_example/tfrecords/tusimple_train.tfrecords....\n",
      "I0210 11:40:22.239140 15838 tf_io_pipline_tools.py:104] Writing /home/user/lanenet/data/training_data_example/tfrecords/tusimple_train.tfrecords complete\n",
      "2022-02-10 11:40:22.239 | INFO     | data_provider.lanenet_data_feed_pipline:generate_tfrecords:102 - Generating training example tfrecords complete\n",
      "2022-02-10 11:40:22.239 | INFO     | data_provider.lanenet_data_feed_pipline:generate_tfrecords:105 - Start generating validation example tfrecords\n",
      "I0210 11:40:22.240188 15838 tf_io_pipline_tools.py:59] Writing /home/user/lanenet/data/training_data_example/tfrecords/tusimple_val.tfrecords....\n",
      "I0210 11:40:22.275004 15838 tf_io_pipline_tools.py:104] Writing /home/user/lanenet/data/training_data_example/tfrecords/tusimple_val.tfrecords complete\n",
      "2022-02-10 11:40:22.275 | INFO     | data_provider.lanenet_data_feed_pipline:generate_tfrecords:119 - Generating validation example tfrecords complete\n",
      "2022-02-10 11:40:22.275 | INFO     | data_provider.lanenet_data_feed_pipline:generate_tfrecords:122 - Start generating testing example tfrecords\n",
      "I0210 11:40:22.276208 15838 tf_io_pipline_tools.py:59] Writing /home/user/lanenet/data/training_data_example/tfrecords/tusimple_test.tfrecords....\n",
      "I0210 11:40:22.362397 15838 tf_io_pipline_tools.py:104] Writing /home/user/lanenet/data/training_data_example/tfrecords/tusimple_test.tfrecords complete\n",
      "2022-02-10 11:40:22.362 | INFO     | data_provider.lanenet_data_feed_pipline:generate_tfrecords:136 - Generating testing example tfrecords complete\n"
     ]
    }
   ],
   "source": [
    "if __name__ == '__main__':\n",
    "    \"\"\"\n",
    "    test\n",
    "    \"\"\"\n",
    "    generate_tfrecords()"
   ]
  },
  {
   "cell_type": "code",
   "execution_count": null,
   "id": "9b3debb3-acda-4c05-b1e8-e83db6c18d07",
   "metadata": {},
   "outputs": [],
   "source": []
  }
 ],
 "metadata": {
  "kernelspec": {
   "display_name": "Python 3",
   "language": "python",
   "name": "python3"
  },
  "language_info": {
   "codemirror_mode": {
    "name": "ipython",
    "version": 3
   },
   "file_extension": ".py",
   "mimetype": "text/x-python",
   "name": "python",
   "nbconvert_exporter": "python",
   "pygments_lexer": "ipython3",
   "version": "3.6.13"
  }
 },
 "nbformat": 4,
 "nbformat_minor": 5
}
