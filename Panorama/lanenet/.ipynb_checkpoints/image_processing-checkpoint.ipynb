{
 "cells": [
  {
   "cell_type": "markdown",
   "id": "5e0efefa-9e0b-47ae-8e25-08c8c051dfb3",
   "metadata": {},
   "source": [
    "## 이미지 스케일링 하기 "
   ]
  },
  {
   "cell_type": "code",
   "execution_count": 7,
   "id": "a31f089b-c427-4f05-82ae-6a01b00e7ca9",
   "metadata": {},
   "outputs": [],
   "source": [
    "import cv2 \n",
    "import numpy as np\n",
    "import matplotlib.pyplot as plt\n",
    "from glob import glob\n",
    "\n",
    "img1 = cv2.imread(\"/home/yolo/Desktop/panorama/data/training_data_example(사본)/gt_instance_image/0000.png\")\n",
    "img2 = cv2.imread(\"/home/yolo/Desktop/panorama/data/training_data_example/gt_instance_image/fhd_1.tif\")\n",
    "\n",
    "img3 = cv2.imread(\"/home/yolo/Desktop/panorama/data/training_data_example(사본)/gt_binary_image/0000.png\")\n",
    "img4 = cv2.imread(\"/home/yolo/Desktop/panorama/data/training_data_example/gt_binary_image/fhd_1.tif\")"
   ]
  },
  {
   "cell_type": "code",
   "execution_count": 8,
   "id": "0f1b6c1c-5105-40c3-b90d-2ac9c45837c2",
   "metadata": {},
   "outputs": [],
   "source": [
    "## resize 한 뒤, scailing 하기 \n",
    "def scailing_binary(binary):\n",
    "    temp = np.where(binary>0,255,0)\n",
    "    return temp\n",
    "    \n",
    "def scailing_instance(instance):\n",
    "    temp =np.where((instance>0) & (instance<=29),20,instance)\n",
    "    temp =np.where((temp>20) & (temp<=76),70,temp)\n",
    "    temp =np.where((temp>76) & (temp<=150),120,temp)\n",
    "    temp =np.where((temp>150),170,temp)\n",
    "    return temp"
   ]
  },
  {
   "cell_type": "code",
   "execution_count": 4,
   "id": "59666117-91be-4d55-b397-52d7d294f7a1",
   "metadata": {},
   "outputs": [],
   "source": [
    "### 코드 완성하기 \n",
    "\n",
    "gt_instance_image = glob(\"/home/yolo/Desktop/panorama/data/training_data_example/gt_instance_image/*.tif\")\n",
    "gt_binary_image = glob(\"/home/yolo/Desktop/panorama/data/training_data_example/gt_binary_image/*.tif\")\n",
    "gt_image = glob(\"/home/yolo/Desktop/panorama/data/training_data_example/gt_image/*.jpg\")\n",
    "\n",
    "\n",
    "# gt_image, gt_binary_image는 이미지 저장형식 바꾸기 \n",
    "for img_path in gt_binary_image:\n",
    "    img = cv2.imread(img_path)\n",
    "    resized_img = cv2.resize(img,(1280,720))\n",
    "    resized_img = scailing_binary(resized_img)\n",
    "    resized_img = resized_img[...,0]\n",
    "    name = img_path[:-3]+'png'\n",
    "    #cv2.imwrite(name, resized_img)\n",
    "    \n",
    "# gt_instance_image는 이미지 스케일링 하기 \n",
    "for img_path in gt_instance_image:\n",
    "    img = cv2.imread(img_path)\n",
    "    gray_scale_img = cv2.cvtColor(img,cv2.COLOR_BGR2GRAY)\n",
    "    resized_img = cv2.resize(gray_scale_img,(1280,720))\n",
    "    resized_img = scailing_instance(resized_img)\n",
    "    #stacked_img = np.stack((resized_img,)*3, axis=-1) <- 일부러 3차원 만들필요 없음\n",
    "    name = img_path[:-3]+'png'\n",
    "    #cv2.imwrite(name,resized_img)"
   ]
  },
  {
   "cell_type": "code",
   "execution_count": 16,
   "id": "0341a614-127b-4dcb-a803-e9678c0d2ca5",
   "metadata": {},
   "outputs": [
    {
     "data": {
      "text/plain": [
       "(720, 1280, 3)"
      ]
     },
     "execution_count": 16,
     "metadata": {},
     "output_type": "execute_result"
    }
   ],
   "source": [
    "img2 = cv2.imread(\"/home/yolo/Desktop/panorama/data/training_data_example/gt_instance_image/fhd_1.png\")\n",
    "img2.shape"
   ]
  },
  {
   "cell_type": "code",
   "execution_count": 17,
   "id": "c45b93de-d1da-4493-acd2-a345e3d3f8dd",
   "metadata": {},
   "outputs": [],
   "source": [
    "for img_path in gt_image:\n",
    "    img = cv2.imread(img_path)\n",
    "    resized_img = cv2.resize(img,(1280,720))\n",
    "    #resized_img = scailing_binary(resized_img)\n",
    "    name = img_path[:-3]+'png'\n",
    "    cv2.imwrite(name, resized_img)"
   ]
  },
  {
   "cell_type": "markdown",
   "id": "992475d7-5fc8-424b-9137-d763b23dd07d",
   "metadata": {},
   "source": [
    "## 이미지 이름 바꾸기"
   ]
  },
  {
   "cell_type": "code",
   "execution_count": 4,
   "id": "35f82161-5df6-4301-a61e-61ad4385ce9b",
   "metadata": {},
   "outputs": [],
   "source": [
    "import cv2\n",
    "from glob import glob"
   ]
  },
  {
   "cell_type": "code",
   "execution_count": 4,
   "id": "8f205a9c-1c47-4525-a810-262c871c204d",
   "metadata": {},
   "outputs": [],
   "source": [
    "a = glob(\"/home/yolo/Desktop/panorama/data/training_data_example/gt_instance_image/*.tif\")"
   ]
  },
  {
   "cell_type": "code",
   "execution_count": 11,
   "id": "6a82b710-0c5e-4455-8439-8403fac1f9af",
   "metadata": {},
   "outputs": [],
   "source": [
    "for img in a: \n",
    "    img2=cv2.imread(img,0)\n",
    "    ret,img2=cv2.threshold(img2,10,255,cv2.THRESH_BINARY)\n",
    "    name = img.split('/')[-1]\n",
    "    cv2.imwrite(\"/home/yolo/Desktop/panorama/data/training_data_example/gt_binary_image/\" + name,img2)"
   ]
  },
  {
   "cell_type": "code",
   "execution_count": 10,
   "id": "7322e572-f8c4-4ea8-8e16-69f9c5565620",
   "metadata": {},
   "outputs": [
    {
     "data": {
      "text/plain": [
       "'fhd_572.tif'"
      ]
     },
     "execution_count": 10,
     "metadata": {},
     "output_type": "execute_result"
    }
   ],
   "source": [
    "a[0].split('/')[-1]"
   ]
  },
  {
   "cell_type": "markdown",
   "id": "a0016f7d-366f-4faf-9d46-ddf78f45026c",
   "metadata": {},
   "source": [
    "## 이미지 형식 바꾸기"
   ]
  },
  {
   "cell_type": "code",
   "execution_count": 36,
   "id": "6fe3180c-18b4-4615-9947-dca12dda4dff",
   "metadata": {},
   "outputs": [],
   "source": [
    "from PIL import Image\n",
    "import os.path as ops\n",
    "from glob import glob\n",
    "import cv2"
   ]
  },
  {
   "cell_type": "code",
   "execution_count": 37,
   "id": "644b2800-a387-4f77-a7fc-99038fafb8fb",
   "metadata": {
    "tags": []
   },
   "outputs": [],
   "source": [
    "gt_instance_image = glob(\"/home/yolo/Desktop/panorama/data/training_data_example/gt_instance_image/*.tif\")\n",
    "gt_binary_image = glob(\"/home/yolo/Desktop/panorama/data/training_data_example/gt_binary_image/*.tif\")\n",
    "gt_image = glob(\"/home/yolo/Desktop/panorama/data/training_data_example/gt_image/*.jpg\")\n",
    "\n",
    "image_paths = gt_instance_image + gt_binary_image + gt_image"
   ]
  },
  {
   "cell_type": "code",
   "execution_count": 39,
   "id": "ab754487-1dfa-4648-8fca-63f0f7db0335",
   "metadata": {},
   "outputs": [],
   "source": [
    "for img_path in image_paths:\n",
    "    try: \n",
    "        im = cv2.imread(img_path)\n",
    "        im = cv2.resize(im,(1280,720))\n",
    "        im = cv2.cvtColor(im, cv2.COLOR_BGR2RGB)\n",
    "        pil_image=Image.fromarray(im)\n",
    "        name = ops.split(img_path)[1].split('.')[0] + '.png'\n",
    "        final_name = ops.join(ops.split(img_path)[0],name)\n",
    "        pil_image.save(final_name, 'png') \n",
    "\n",
    "    except OSError as e: \n",
    "        print(e)"
   ]
  },
  {
   "cell_type": "markdown",
   "id": "ec50f761-e970-4b53-80c3-cbe9e997e501",
   "metadata": {},
   "source": [
    "## instance_image grayscale로 바꾸기"
   ]
  },
  {
   "cell_type": "code",
   "execution_count": 46,
   "id": "c0737aa9-c63e-4f34-aaf6-2e6b2b9099f9",
   "metadata": {},
   "outputs": [],
   "source": [
    "gt_instance_image = glob(\"/home/yolo/Desktop/panorama/data/training_data_example/gt_instance_image/*.png\")"
   ]
  },
  {
   "cell_type": "code",
   "execution_count": 47,
   "id": "23cc7ecf-fdf9-4739-a888-da474bb37268",
   "metadata": {},
   "outputs": [],
   "source": [
    "import matplotlib.pyplot as plt"
   ]
  },
  {
   "cell_type": "code",
   "execution_count": 48,
   "id": "0df87b69-56b1-4503-8afc-3f7fd602cf29",
   "metadata": {},
   "outputs": [],
   "source": [
    "for img_path in gt_instance_image:\n",
    "    img = cv2.imread(img_path)\n",
    "    img = cv2.cvtColor(img,cv2.COLOR_BGR2GRAY)\n",
    "    name = img_path\n",
    "    cv2.imwrite(name,img)"
   ]
  },
  {
   "cell_type": "code",
   "execution_count": null,
   "id": "0fc0d7a8-c86e-4f62-af8c-71658a7dbf78",
   "metadata": {},
   "outputs": [],
   "source": []
  }
 ],
 "metadata": {
  "kernelspec": {
   "display_name": "Python 3 (ipykernel)",
   "language": "python",
   "name": "python3"
  },
  "language_info": {
   "codemirror_mode": {
    "name": "ipython",
    "version": 3
   },
   "file_extension": ".py",
   "mimetype": "text/x-python",
   "name": "python",
   "nbconvert_exporter": "python",
   "pygments_lexer": "ipython3",
   "version": "3.7.11"
  }
 },
 "nbformat": 4,
 "nbformat_minor": 5
}
