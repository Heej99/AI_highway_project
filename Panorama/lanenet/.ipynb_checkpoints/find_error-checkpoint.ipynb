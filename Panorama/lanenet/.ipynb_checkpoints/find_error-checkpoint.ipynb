{
 "cells": [
  {
   "cell_type": "code",
   "execution_count": 1,
   "id": "82000075-b3d9-4fb5-9800-4ad977bfd6a9",
   "metadata": {
    "collapsed": true,
    "jupyter": {
     "outputs_hidden": true
    },
    "tags": []
   },
   "outputs": [
    {
     "name": "stderr",
     "output_type": "stream",
     "text": [
      "2022-02-11 13:03:44.485879: I tensorflow/stream_executor/platform/default/dso_loader.cc:44] Successfully opened dynamic library libcuda.so.1\n",
      "2022-02-11 13:03:44.517739: I tensorflow/stream_executor/cuda/cuda_gpu_executor.cc:983] successful NUMA node read from SysFS had negative value (-1), but there must be at least one NUMA node, so returning NUMA node zero\n",
      "2022-02-11 13:03:44.517910: I tensorflow/core/common_runtime/gpu/gpu_device.cc:1618] Found device 0 with properties: \n",
      "name: NVIDIA GeForce GTX 1060 major: 6 minor: 1 memoryClockRate(GHz): 1.6705\n",
      "pciBusID: 0000:01:00.0\n",
      "2022-02-11 13:03:44.518059: I tensorflow/stream_executor/platform/default/dso_loader.cc:44] Successfully opened dynamic library libcudart.so.10.0\n",
      "2022-02-11 13:03:44.519003: I tensorflow/stream_executor/platform/default/dso_loader.cc:44] Successfully opened dynamic library libcublas.so.10.0\n",
      "2022-02-11 13:03:44.519794: I tensorflow/stream_executor/platform/default/dso_loader.cc:44] Successfully opened dynamic library libcufft.so.10.0\n",
      "2022-02-11 13:03:44.519987: I tensorflow/stream_executor/platform/default/dso_loader.cc:44] Successfully opened dynamic library libcurand.so.10.0\n",
      "2022-02-11 13:03:44.521091: I tensorflow/stream_executor/platform/default/dso_loader.cc:44] Successfully opened dynamic library libcusolver.so.10.0\n",
      "2022-02-11 13:03:44.521965: I tensorflow/stream_executor/platform/default/dso_loader.cc:44] Successfully opened dynamic library libcusparse.so.10.0\n",
      "2022-02-11 13:03:44.524891: I tensorflow/stream_executor/platform/default/dso_loader.cc:44] Successfully opened dynamic library libcudnn.so.7\n",
      "2022-02-11 13:03:44.524999: I tensorflow/stream_executor/cuda/cuda_gpu_executor.cc:983] successful NUMA node read from SysFS had negative value (-1), but there must be at least one NUMA node, so returning NUMA node zero\n",
      "2022-02-11 13:03:44.525138: I tensorflow/stream_executor/cuda/cuda_gpu_executor.cc:983] successful NUMA node read from SysFS had negative value (-1), but there must be at least one NUMA node, so returning NUMA node zero\n",
      "2022-02-11 13:03:44.525212: I tensorflow/core/common_runtime/gpu/gpu_device.cc:1746] Adding visible gpu devices: 0\n"
     ]
    }
   ],
   "source": [
    "# gpu 비우기\n",
    "import tensorflow as tf\n",
    "gpus = tf.config.experimental.list_physical_devices('GPU')\n",
    "tf.config.experimental.set_memory_growth(gpus[0], True)"
   ]
  },
  {
   "cell_type": "code",
   "execution_count": 1,
   "id": "d60e0a8d-581d-4bfd-b5ad-be4691474491",
   "metadata": {
    "tags": []
   },
   "outputs": [],
   "source": [
    "# path setting\n",
    "import sys \n",
    "sys.path.append(\"/home/ict1234/Desktop/panorama\")\n",
    "from config.read_config import config_\n",
    "\n",
    "PATH_CFG = config_(\"/home/ict1234/Desktop/panorama/config/path.yaml\")\n",
    "\n",
    "# Built-in function기\n",
    "import argparse\n",
    "import glob\n",
    "import os\n",
    "import os.path as ops\n",
    "import time\n",
    "import cv2\n",
    "import numpy as np\n",
    "import tensorflow as tf\n",
    "import tqdm\n",
    "import re\n",
    "import matplotlib.pyplot as plt\n",
    "\n",
    "# UUser-Defined Function\n",
    "import sys # 자체 모듈 import를 위한 경로 추가 (리눅스에서)\n",
    "sys.path.extend(PATH_CFG['FUNC_PATH'])\n",
    "\n",
    "from lanenet_model import lanenet\n",
    "from lanenet_model import lanenet_postprocess\n",
    "#import lanenet_postprocess\n",
    "from local_utils.config_utils import parse_config_utils\n",
    "from local_utils.log_util import init_logger\n",
    "from create_directory import createDirectory\n",
    "\n",
    "CFG = parse_config_utils.lanenet_cfg\n",
    "LOG = init_logger.get_logger(log_file_name_prefix='lanenet_eval')"
   ]
  },
  {
   "cell_type": "code",
   "execution_count": 2,
   "id": "99a0a608-8eff-46ef-80a9-50e51be6d1a9",
   "metadata": {},
   "outputs": [],
   "source": [
    "PATH_CFG['DATA_PATH']['WEIGHT_PATH'] =\\\n",
    "'/home/ict1234/Desktop/panorama/data/weight/tusimple_train_miou=0.7543.ckpt-904'\n",
    "\n",
    "#tusimple_lanenet.ckpt"
   ]
  },
  {
   "cell_type": "code",
   "execution_count": 3,
   "id": "ca063f38-40f5-4851-8c39-b612985da77f",
   "metadata": {},
   "outputs": [],
   "source": [
    "\n",
    "def eval_lanenet(path_config=PATH_CFG,npysave=False,outputimage_save=False):\n",
    "    global postprocess_result,lane_point_line,binary_seg_image,instance_seg_image\n",
    "    \"\"\"\n",
    "\n",
    "    :param src_dir:\n",
    "    :param weights_path:\n",
    "    :param save_dir:\n",
    "    :return:\n",
    "    \"\"\"\n",
    "    \n",
    "    weights_path = PATH_CFG['DATA_PATH']['WEIGHT_PATH']\n",
    "    fhd_dir = PATH_CFG['DATA_PATH']['FHD_DIR']\n",
    "    npy_dir = PATH_CFG['DATA_PATH']['NPY_DIR']\n",
    "    output_image_dir = PATH_CFG['DATA_PATH']['IMAGE_OUT_DIR']\n",
    "        \n",
    "    # make folder \n",
    "    createDirectory(npy_dir)\n",
    "    createDirectory(output_image_dir)\n",
    "    \n",
    "    # make parameter\n",
    "    npy_list = []\n",
    "    \n",
    "    # draw lanenet\n",
    "    input_tensor = tf.placeholder(dtype=tf.float32, shape=[1, 256, 512, 3], name='input_tensor')\n",
    "    net = lanenet.LaneNet(phase='test', cfg=CFG)\n",
    "    binary_seg_ret, instance_seg_ret = net.inference(input_tensor=input_tensor, name='LaneNet') # lanenet_back_end.inference\n",
    "    postprocessor = lanenet_postprocess.LaneNetPostProcessor(cfg=CFG)\n",
    "    \n",
    "    saver = tf.train.Saver()\n",
    "\n",
    "    # Set sess configuration\n",
    "    sess_config = tf.ConfigProto()\n",
    "    sess_config.gpu_options.per_process_gpu_memory_fraction = CFG.GPU.GPU_MEMORY_FRACTION\n",
    "    sess_config.gpu_options.allow_growth = CFG.GPU.TF_ALLOW_GROWTH\n",
    "    sess_config.gpu_options.allocator_type = 'BFC'\n",
    "\n",
    "    sess = tf.Session(config=sess_config)\n",
    "\n",
    "    with sess.as_default():\n",
    "\n",
    "        saver.restore(sess=sess, save_path=weights_path)\n",
    "\n",
    "        image_list =['/home/ict1234/Desktop/panorama/data/GH011110/FHD/fhd_950.jpg']\n",
    "        avg_time_cost = []\n",
    "        for index, image_path in tqdm.tqdm(enumerate(image_list), total=len(image_list)):\n",
    "\n",
    "            image_origin = cv2.imread(image_path, cv2.IMREAD_COLOR)\n",
    "            image = cv2.resize(image_origin, (512, 256), interpolation=cv2.INTER_LINEAR)\n",
    "            image = image / 127.5 - 1.0\n",
    "\n",
    "            t_start = time.time()\n",
    "            \n",
    "            binary_seg_image, instance_seg_image = sess.run(\n",
    "                [binary_seg_ret, instance_seg_ret],\n",
    "                feed_dict={input_tensor: [image]}\n",
    "            )\n",
    "            avg_time_cost.append(time.time() - t_start)\n",
    "\n",
    "            postprocess_result,lane_point_line = postprocessor.postprocess(\n",
    "                binary_seg_result=binary_seg_image[0],\n",
    "                instance_seg_result=instance_seg_image[0],\n",
    "                source_image=image_origin\n",
    "            )\n",
    "            break\n",
    "\n",
    "    return "
   ]
  },
  {
   "cell_type": "code",
   "execution_count": 4,
   "id": "99d09977-9833-44b3-b907-be42c26654ed",
   "metadata": {
    "collapsed": true,
    "jupyter": {
     "outputs_hidden": true
    },
    "tags": []
   },
   "outputs": [
    {
     "name": "stdout",
     "output_type": "stream",
     "text": [
      "WARNING:tensorflow:From /tmp/ipykernel_15838/2690705071.py:24: The name tf.placeholder is deprecated. Please use tf.compat.v1.placeholder instead.\n",
      "\n"
     ]
    },
    {
     "name": "stderr",
     "output_type": "stream",
     "text": [
      "W0211 13:05:53.934401 15838 module_wrapper.py:139] From /tmp/ipykernel_15838/2690705071.py:24: The name tf.placeholder is deprecated. Please use tf.compat.v1.placeholder instead.\n",
      "\n"
     ]
    },
    {
     "name": "stdout",
     "output_type": "stream",
     "text": [
      "WARNING:tensorflow:From /home/ict1234/Desktop/panorama/model/test_lanenet/lanenet_model/lanenet.py:42: The name tf.variable_scope is deprecated. Please use tf.compat.v1.variable_scope instead.\n",
      "\n"
     ]
    },
    {
     "name": "stderr",
     "output_type": "stream",
     "text": [
      "W0211 13:05:53.948758 15838 module_wrapper.py:139] From /home/ict1234/Desktop/panorama/model/test_lanenet/lanenet_model/lanenet.py:42: The name tf.variable_scope is deprecated. Please use tf.compat.v1.variable_scope instead.\n",
      "\n"
     ]
    },
    {
     "name": "stdout",
     "output_type": "stream",
     "text": [
      "WARNING:tensorflow:\n",
      "The TensorFlow contrib module will not be included in TensorFlow 2.0.\n",
      "For more information, please see:\n",
      "  * https://github.com/tensorflow/community/blob/master/rfcs/20180907-contrib-sunset.md\n",
      "  * https://github.com/tensorflow/addons\n",
      "  * https://github.com/tensorflow/io (for I/O related ops)\n",
      "If you depend on functionality not listed there, please file an issue.\n",
      "\n"
     ]
    },
    {
     "name": "stderr",
     "output_type": "stream",
     "text": [
      "W0211 13:05:53.950311 15838 lazy_loader.py:50] \n",
      "The TensorFlow contrib module will not be included in TensorFlow 2.0.\n",
      "For more information, please see:\n",
      "  * https://github.com/tensorflow/community/blob/master/rfcs/20180907-contrib-sunset.md\n",
      "  * https://github.com/tensorflow/addons\n",
      "  * https://github.com/tensorflow/io (for I/O related ops)\n",
      "If you depend on functionality not listed there, please file an issue.\n",
      "\n"
     ]
    },
    {
     "name": "stdout",
     "output_type": "stream",
     "text": [
      "WARNING:tensorflow:From /home/ict1234/Desktop/panorama/model/test_lanenet/semantic_segmentation_zoo/cnn_basenet.py:73: The name tf.get_variable is deprecated. Please use tf.compat.v1.get_variable instead.\n",
      "\n"
     ]
    },
    {
     "name": "stderr",
     "output_type": "stream",
     "text": [
      "W0211 13:05:54.201147 15838 module_wrapper.py:139] From /home/ict1234/Desktop/panorama/model/test_lanenet/semantic_segmentation_zoo/cnn_basenet.py:73: The name tf.get_variable is deprecated. Please use tf.compat.v1.get_variable instead.\n",
      "\n"
     ]
    },
    {
     "name": "stdout",
     "output_type": "stream",
     "text": [
      "WARNING:tensorflow:From /home/ict1234/Desktop/panorama/model/test_lanenet/semantic_segmentation_zoo/cnn_basenet.py:355: batch_normalization (from tensorflow.python.layers.normalization) is deprecated and will be removed in a future version.\n",
      "Instructions for updating:\n",
      "Use keras.layers.BatchNormalization instead.  In particular, `tf.control_dependencies(tf.GraphKeys.UPDATE_OPS)` should not be used (consult the `tf.keras.layers.batch_normalization` documentation).\n"
     ]
    },
    {
     "name": "stderr",
     "output_type": "stream",
     "text": [
      "W0211 13:05:54.210836 15838 deprecation.py:323] From /home/ict1234/Desktop/panorama/model/test_lanenet/semantic_segmentation_zoo/cnn_basenet.py:355: batch_normalization (from tensorflow.python.layers.normalization) is deprecated and will be removed in a future version.\n",
      "Instructions for updating:\n",
      "Use keras.layers.BatchNormalization instead.  In particular, `tf.control_dependencies(tf.GraphKeys.UPDATE_OPS)` should not be used (consult the `tf.keras.layers.batch_normalization` documentation).\n"
     ]
    },
    {
     "name": "stdout",
     "output_type": "stream",
     "text": [
      "WARNING:tensorflow:From /home/ict1234/anaconda3/envs/lanenet/lib/python3.7/site-packages/tensorflow_core/python/layers/normalization.py:327: Layer.apply (from tensorflow.python.keras.engine.base_layer) is deprecated and will be removed in a future version.\n",
      "Instructions for updating:\n",
      "Please use `layer.__call__` method instead.\n"
     ]
    },
    {
     "name": "stderr",
     "output_type": "stream",
     "text": [
      "W0211 13:05:54.212696 15838 deprecation.py:323] From /home/ict1234/anaconda3/envs/lanenet/lib/python3.7/site-packages/tensorflow_core/python/layers/normalization.py:327: Layer.apply (from tensorflow.python.keras.engine.base_layer) is deprecated and will be removed in a future version.\n",
      "Instructions for updating:\n",
      "Please use `layer.__call__` method instead.\n"
     ]
    },
    {
     "name": "stdout",
     "output_type": "stream",
     "text": [
      "WARNING:tensorflow:From /home/ict1234/Desktop/panorama/model/test_lanenet/semantic_segmentation_zoo/cnn_basenet.py:180: The name tf.nn.max_pool is deprecated. Please use tf.nn.max_pool2d instead.\n",
      "\n"
     ]
    },
    {
     "name": "stderr",
     "output_type": "stream",
     "text": [
      "W0211 13:05:54.422644 15838 module_wrapper.py:139] From /home/ict1234/Desktop/panorama/model/test_lanenet/semantic_segmentation_zoo/cnn_basenet.py:180: The name tf.nn.max_pool is deprecated. Please use tf.nn.max_pool2d instead.\n",
      "\n"
     ]
    },
    {
     "name": "stdout",
     "output_type": "stream",
     "text": [
      "WARNING:tensorflow:From /home/ict1234/Desktop/panorama/model/test_lanenet/semantic_segmentation_zoo/cnn_basenet.py:204: The name tf.nn.avg_pool is deprecated. Please use tf.nn.avg_pool2d instead.\n",
      "\n"
     ]
    },
    {
     "name": "stderr",
     "output_type": "stream",
     "text": [
      "W0211 13:05:55.262992 15838 module_wrapper.py:139] From /home/ict1234/Desktop/panorama/model/test_lanenet/semantic_segmentation_zoo/cnn_basenet.py:204: The name tf.nn.avg_pool is deprecated. Please use tf.nn.avg_pool2d instead.\n",
      "\n"
     ]
    },
    {
     "name": "stdout",
     "output_type": "stream",
     "text": [
      "WARNING:tensorflow:From /home/ict1234/Desktop/panorama/model/test_lanenet/semantic_segmentation_zoo/bisenet_v2.py:584: The name tf.image.resize_bilinear is deprecated. Please use tf.compat.v1.image.resize_bilinear instead.\n",
      "\n"
     ]
    },
    {
     "name": "stderr",
     "output_type": "stream",
     "text": [
      "W0211 13:05:55.318342 15838 module_wrapper.py:139] From /home/ict1234/Desktop/panorama/model/test_lanenet/semantic_segmentation_zoo/bisenet_v2.py:584: The name tf.image.resize_bilinear is deprecated. Please use tf.compat.v1.image.resize_bilinear instead.\n",
      "\n"
     ]
    },
    {
     "name": "stdout",
     "output_type": "stream",
     "text": [
      "WARNING:tensorflow:From /tmp/ipykernel_15838/2690705071.py:29: The name tf.train.Saver is deprecated. Please use tf.compat.v1.train.Saver instead.\n",
      "\n"
     ]
    },
    {
     "name": "stderr",
     "output_type": "stream",
     "text": [
      "W0211 13:05:55.682374 15838 module_wrapper.py:139] From /tmp/ipykernel_15838/2690705071.py:29: The name tf.train.Saver is deprecated. Please use tf.compat.v1.train.Saver instead.\n",
      "\n"
     ]
    },
    {
     "name": "stdout",
     "output_type": "stream",
     "text": [
      "WARNING:tensorflow:From /tmp/ipykernel_15838/2690705071.py:32: The name tf.ConfigProto is deprecated. Please use tf.compat.v1.ConfigProto instead.\n",
      "\n"
     ]
    },
    {
     "name": "stderr",
     "output_type": "stream",
     "text": [
      "W0211 13:05:55.875374 15838 module_wrapper.py:139] From /tmp/ipykernel_15838/2690705071.py:32: The name tf.ConfigProto is deprecated. Please use tf.compat.v1.ConfigProto instead.\n",
      "\n"
     ]
    },
    {
     "name": "stdout",
     "output_type": "stream",
     "text": [
      "WARNING:tensorflow:From /tmp/ipykernel_15838/2690705071.py:37: The name tf.Session is deprecated. Please use tf.compat.v1.Session instead.\n",
      "\n"
     ]
    },
    {
     "name": "stderr",
     "output_type": "stream",
     "text": [
      "W0211 13:05:55.876263 15838 module_wrapper.py:139] From /tmp/ipykernel_15838/2690705071.py:37: The name tf.Session is deprecated. Please use tf.compat.v1.Session instead.\n",
      "\n",
      "2022-02-11 13:05:55.877928: I tensorflow/core/platform/cpu_feature_guard.cc:142] Your CPU supports instructions that this TensorFlow binary was not compiled to use: AVX2 FMA\n"
     ]
    },
    {
     "name": "stdout",
     "output_type": "stream",
     "text": [
      "INFO:tensorflow:Restoring parameters from /home/ict1234/Desktop/panorama/data/weight/tusimple_train_miou=0.7543.ckpt-904\n"
     ]
    },
    {
     "name": "stderr",
     "output_type": "stream",
     "text": [
      "2022-02-11 13:05:55.902035: I tensorflow/core/platform/profile_utils/cpu_utils.cc:94] CPU Frequency: 2799925000 Hz\n",
      "2022-02-11 13:05:55.902432: I tensorflow/compiler/xla/service/service.cc:168] XLA service 0x55f3f01bdc40 initialized for platform Host (this does not guarantee that XLA will be used). Devices:\n",
      "2022-02-11 13:05:55.902454: I tensorflow/compiler/xla/service/service.cc:176]   StreamExecutor device (0): Host, Default Version\n",
      "2022-02-11 13:05:55.904287: I tensorflow/stream_executor/platform/default/dso_loader.cc:44] Successfully opened dynamic library libcuda.so.1\n",
      "2022-02-11 13:05:55.959449: I tensorflow/stream_executor/cuda/cuda_gpu_executor.cc:983] successful NUMA node read from SysFS had negative value (-1), but there must be at least one NUMA node, so returning NUMA node zero\n",
      "2022-02-11 13:05:55.959686: I tensorflow/compiler/xla/service/service.cc:168] XLA service 0x55f3ee2cfb50 initialized for platform CUDA (this does not guarantee that XLA will be used). Devices:\n",
      "2022-02-11 13:05:55.959707: I tensorflow/compiler/xla/service/service.cc:176]   StreamExecutor device (0): NVIDIA GeForce GTX 1060, Compute Capability 6.1\n",
      "2022-02-11 13:05:55.959931: I tensorflow/stream_executor/cuda/cuda_gpu_executor.cc:983] successful NUMA node read from SysFS had negative value (-1), but there must be at least one NUMA node, so returning NUMA node zero\n",
      "2022-02-11 13:05:55.960067: I tensorflow/core/common_runtime/gpu/gpu_device.cc:1618] Found device 0 with properties: \n",
      "name: NVIDIA GeForce GTX 1060 major: 6 minor: 1 memoryClockRate(GHz): 1.6705\n",
      "pciBusID: 0000:01:00.0\n",
      "2022-02-11 13:05:55.960338: I tensorflow/stream_executor/platform/default/dso_loader.cc:44] Successfully opened dynamic library libcudart.so.10.0\n",
      "2022-02-11 13:05:55.961209: I tensorflow/stream_executor/platform/default/dso_loader.cc:44] Successfully opened dynamic library libcublas.so.10.0\n",
      "2022-02-11 13:05:55.962070: I tensorflow/stream_executor/platform/default/dso_loader.cc:44] Successfully opened dynamic library libcufft.so.10.0\n",
      "2022-02-11 13:05:55.962447: I tensorflow/stream_executor/platform/default/dso_loader.cc:44] Successfully opened dynamic library libcurand.so.10.0\n",
      "2022-02-11 13:05:55.963513: I tensorflow/stream_executor/platform/default/dso_loader.cc:44] Successfully opened dynamic library libcusolver.so.10.0\n",
      "2022-02-11 13:05:55.964317: I tensorflow/stream_executor/platform/default/dso_loader.cc:44] Successfully opened dynamic library libcusparse.so.10.0\n",
      "2022-02-11 13:05:55.967011: I tensorflow/stream_executor/platform/default/dso_loader.cc:44] Successfully opened dynamic library libcudnn.so.7\n",
      "2022-02-11 13:05:55.967245: I tensorflow/stream_executor/cuda/cuda_gpu_executor.cc:983] successful NUMA node read from SysFS had negative value (-1), but there must be at least one NUMA node, so returning NUMA node zero\n",
      "2022-02-11 13:05:55.967626: I tensorflow/stream_executor/cuda/cuda_gpu_executor.cc:983] successful NUMA node read from SysFS had negative value (-1), but there must be at least one NUMA node, so returning NUMA node zero\n",
      "2022-02-11 13:05:55.967773: I tensorflow/core/common_runtime/gpu/gpu_device.cc:1746] Adding visible gpu devices: 0\n",
      "2022-02-11 13:05:55.967925: I tensorflow/stream_executor/platform/default/dso_loader.cc:44] Successfully opened dynamic library libcudart.so.10.0\n",
      "2022-02-11 13:05:55.969097: I tensorflow/core/common_runtime/gpu/gpu_device.cc:1159] Device interconnect StreamExecutor with strength 1 edge matrix:\n",
      "2022-02-11 13:05:55.969115: I tensorflow/core/common_runtime/gpu/gpu_device.cc:1165]      0 \n",
      "2022-02-11 13:05:55.969121: I tensorflow/core/common_runtime/gpu/gpu_device.cc:1178] 0:   N \n",
      "2022-02-11 13:05:55.969282: I tensorflow/stream_executor/cuda/cuda_gpu_executor.cc:983] successful NUMA node read from SysFS had negative value (-1), but there must be at least one NUMA node, so returning NUMA node zero\n",
      "2022-02-11 13:05:55.969498: I tensorflow/stream_executor/cuda/cuda_gpu_executor.cc:983] successful NUMA node read from SysFS had negative value (-1), but there must be at least one NUMA node, so returning NUMA node zero\n",
      "2022-02-11 13:05:55.969634: I tensorflow/core/common_runtime/gpu/gpu_device.cc:1304] Created TensorFlow device (/job:localhost/replica:0/task:0/device:GPU:0 with 5470 MB memory) -> physical GPU (device: 0, name: NVIDIA GeForce GTX 1060, pci bus id: 0000:01:00.0, compute capability: 6.1)\n",
      "I0211 13:05:55.971134 15838 saver.py:1284] Restoring parameters from /home/ict1234/Desktop/panorama/data/weight/tusimple_train_miou=0.7543.ckpt-904\n",
      "  0%|                                                     | 0/1 [00:00<?, ?it/s]2022-02-11 13:05:57.065160: I tensorflow/stream_executor/platform/default/dso_loader.cc:44] Successfully opened dynamic library libcudnn.so.7\n",
      "2022-02-11 13:05:57.649267: I tensorflow/stream_executor/platform/default/dso_loader.cc:44] Successfully opened dynamic library libcublas.so.10.0\n",
      "2022-02-11 13:05:57.853501: I tensorflow/stream_executor/cuda/cuda_driver.cc:831] failed to allocate 4.00G (4294967296 bytes) from device: CUDA_ERROR_OUT_OF_MEMORY: out of memory\n",
      "\n"
     ]
    }
   ],
   "source": [
    "eval_lanenet(path_config=PATH_CFG,npysave=False,outputimage_save=False)"
   ]
  },
  {
   "cell_type": "code",
   "execution_count": 5,
   "id": "0967ae48-f701-4e9d-ad19-4ff45b36d6c2",
   "metadata": {},
   "outputs": [
    {
     "data": {
      "text/plain": [
       "((256, 512, 4), (256, 512))"
      ]
     },
     "execution_count": 5,
     "metadata": {},
     "output_type": "execute_result"
    }
   ],
   "source": [
    "instance_seg_image[0].shape , binary_seg_image[0].shape"
   ]
  },
  {
   "cell_type": "code",
   "execution_count": 6,
   "id": "358df144-b668-41ac-ac8a-31e2b015ffa7",
   "metadata": {},
   "outputs": [],
   "source": [
    "binary_seg_result=binary_seg_image[0]\n",
    "instance_seg_result=instance_seg_image[0]"
   ]
  },
  {
   "cell_type": "code",
   "execution_count": 7,
   "id": "120446bf-ca73-44e4-b355-3cc8ae845982",
   "metadata": {},
   "outputs": [
    {
     "data": {
      "text/plain": [
       "(1, 256, 512)"
      ]
     },
     "execution_count": 7,
     "metadata": {},
     "output_type": "execute_result"
    }
   ],
   "source": [
    "binary_seg_image.shape"
   ]
  },
  {
   "cell_type": "code",
   "execution_count": 8,
   "id": "7f25e86e-5934-4148-bf41-eeb5dce3031f",
   "metadata": {},
   "outputs": [
    {
     "data": {
      "text/plain": [
       "(array([0, 1]),\n",
       " array([-2.2210577, -2.221014 , -2.21907  , ...,  2.4704564,  2.470541 ,\n",
       "         2.4807055], dtype=float32))"
      ]
     },
     "execution_count": 8,
     "metadata": {},
     "output_type": "execute_result"
    }
   ],
   "source": [
    "np.unique(binary_seg_result), np.unique(instance_seg_image)"
   ]
  },
  {
   "cell_type": "code",
   "execution_count": 9,
   "id": "6742259f-b906-4614-9711-7e5449c6d240",
   "metadata": {},
   "outputs": [],
   "source": [
    "binary_seg_result = np.array(binary_seg_result * 255, dtype=np.uint8)"
   ]
  },
  {
   "cell_type": "code",
   "execution_count": 10,
   "id": "9cc95f25-1e63-4cda-9b99-12f4f8affbc8",
   "metadata": {},
   "outputs": [
    {
     "name": "stderr",
     "output_type": "stream",
     "text": [
      "W0211 13:06:02.944534 15838 image.py:656] Clipping input data to the valid range for imshow with RGB data ([0..1] for floats or [0..255] for integers).\n"
     ]
    },
    {
     "data": {
      "text/plain": [
       "<matplotlib.image.AxesImage at 0x7ff18d45c0d0>"
      ]
     },
     "execution_count": 10,
     "metadata": {},
     "output_type": "execute_result"
    },
    {
     "data": {
      "image/png": "[encoded data removed]",
      "text/plain": [
       "<Figure size 432x288 with 1 Axes>"
      ]
     },
     "metadata": {
      "needs_background": "light"
     },
     "output_type": "display_data"
    }
   ],
   "source": [
    "plt.imshow(instance_seg_result)"
   ]
  },
  {
   "cell_type": "code",
   "execution_count": 11,
   "id": "1bb51606-671d-4ca1-b68a-410ac613a8f3",
   "metadata": {},
   "outputs": [
    {
     "data": {
      "text/plain": [
       "<matplotlib.image.AxesImage at 0x7ff2063428d0>"
      ]
     },
     "execution_count": 11,
     "metadata": {},
     "output_type": "execute_result"
    },
    {
     "data": {
      "image/png": "[encoded data removed]",
      "text/plain": [
       "<Figure size 432x288 with 1 Axes>"
      ]
     },
     "metadata": {
      "needs_background": "light"
     },
     "output_type": "display_data"
    }
   ],
   "source": [
    "plt.imshow(binary_seg_image[0])"
   ]
  },
  {
   "cell_type": "code",
   "execution_count": 14,
   "id": "115300fa-79d1-4b40-80e0-224c889414e6",
   "metadata": {},
   "outputs": [],
   "source": [
    "image_path = \"/home/ict1234/Desktop/panorama/data/GH011110/FHD/fhd_950.jpg\"\n",
    "image_origin = cv2.imread(image_path, cv2.IMREAD_COLOR)"
   ]
  },
  {
   "cell_type": "code",
   "execution_count": 15,
   "id": "7f9c94ce-924e-4d6d-95de-323bf0f61d85",
   "metadata": {},
   "outputs": [],
   "source": [
    "def _morphological_process(image, kernel_size=5):\n",
    "    \"\"\"\n",
    "    morphological process to fill the hole in the binary segmentation result\n",
    "    :param image:\n",
    "    :param kernel_size:\n",
    "    :return:\n",
    "    \"\"\"\n",
    "    if len(image.shape) == 3:\n",
    "        raise ValueError('Binary segmentation result image should be a single channel image')\n",
    "\n",
    "    if image.dtype is not np.uint8:\n",
    "        image = np.array(image, np.uint8)\n",
    "\n",
    "    kernel = cv2.getStructuringElement(shape=cv2.MORPH_ELLIPSE, ksize=(kernel_size, kernel_size))\n",
    "\n",
    "    # close operation fille hole\n",
    "    closing = cv2.morphologyEx(image, cv2.MORPH_CLOSE, kernel, iterations=1)\n",
    "\n",
    "    return closing\n",
    "\n",
    "def _connect_components_analysis(image):\n",
    "    \"\"\"\n",
    "    connect components analysis to remove the small components\n",
    "    :param image:\n",
    "    :return:\n",
    "    \"\"\"\n",
    "    if len(image.shape) == 3:\n",
    "        gray_image = cv2.cvtColor(image, cv2.COLOR_BGR2GRAY)\n",
    "    else:\n",
    "        gray_image = image\n",
    "\n",
    "    return cv2.connectedComponentsWithStats(gray_image, connectivity=8, ltype=cv2.CV_32S)"
   ]
  },
  {
   "cell_type": "code",
   "execution_count": 16,
   "id": "89ab676f-f1a5-4073-aae4-74df987a894b",
   "metadata": {},
   "outputs": [
    {
     "data": {
      "text/plain": [
       "(1, 256, 512, 4)"
      ]
     },
     "execution_count": 16,
     "metadata": {},
     "output_type": "execute_result"
    }
   ],
   "source": [
    "instance_seg_image.shape"
   ]
  },
  {
   "cell_type": "code",
   "execution_count": 17,
   "id": "e0e22f27-2cf2-4608-866b-cab56720357e",
   "metadata": {},
   "outputs": [],
   "source": [
    "# 저장을 위해\n",
    "binary_seg_result1=binary_seg_image[0],\n",
    "instance_seg_result1=instance_seg_image[0]"
   ]
  },
  {
   "cell_type": "code",
   "execution_count": 18,
   "id": "84d73a1f-8e56-4b69-be08-5aea526bcbc5",
   "metadata": {},
   "outputs": [],
   "source": [
    "binary_seg_result=binary_seg_image[0]\n",
    "instance_seg_result=instance_seg_image[0]"
   ]
  },
  {
   "cell_type": "code",
   "execution_count": 19,
   "id": "33c16b75-d31f-4028-8470-7f1d92362ecd",
   "metadata": {},
   "outputs": [],
   "source": [
    "binary_seg_result = np.array(binary_seg_result * 255, dtype=np.uint8)\n",
    "morphological_ret = _morphological_process(binary_seg_result, kernel_size=5)\n",
    "connect_components_analysis_ret = _connect_components_analysis(image=morphological_ret)\n",
    "labels = connect_components_analysis_ret[1]\n",
    "stats = connect_components_analysis_ret[2]\n",
    "min_area_threshold=100\n",
    "\n",
    "for index, stat in enumerate(stats):\n",
    "    if stat[4] <= min_area_threshold:\n",
    "        idx = np.where(labels == index)\n",
    "        morphological_ret[idx] = 0"
   ]
  },
  {
   "cell_type": "code",
   "execution_count": 20,
   "id": "60f54de5-cbb4-4fad-8924-f58a3b101837",
   "metadata": {},
   "outputs": [
    {
     "data": {
      "text/plain": [
       "<matplotlib.image.AxesImage at 0x7ff20633a550>"
      ]
     },
     "execution_count": 20,
     "metadata": {},
     "output_type": "execute_result"
    },
    {
     "data": {
      "image/png": "[encoded data removed]",
      "text/plain": [
       "<Figure size 432x288 with 1 Axes>"
      ]
     },
     "metadata": {
      "needs_background": "light"
     },
     "output_type": "display_data"
    }
   ],
   "source": [
    "plt.imshow(morphological_ret) # opencv를 이용한 후처리때 까지는 괜찮."
   ]
  },
  {
   "cell_type": "code",
   "execution_count": 21,
   "id": "a456106f-5067-4526-ae2b-963d06861337",
   "metadata": {},
   "outputs": [],
   "source": [
    "def _get_lane_embedding_feats(binary_seg_ret, instance_seg_ret):\n",
    "    \"\"\"\n",
    "    get lane embedding features according the binary seg result\n",
    "    :param binary_seg_ret:\n",
    "    :param instance_seg_ret:\n",
    "    :return:\n",
    "    \"\"\"\n",
    "    idx = np.where(binary_seg_ret == 255)\n",
    "    lane_embedding_feats = instance_seg_ret[idx]\n",
    "    # idx_scale = np.vstack((idx[0] / 256.0, idx[1] / 512.0)).transpose()\n",
    "    # lane_embedding_feats = np.hstack((lane_embedding_feats, idx_scale))\n",
    "    lane_coordinate = np.vstack((idx[1], idx[0])).transpose()\n",
    "\n",
    "    assert lane_embedding_feats.shape[0] == lane_coordinate.shape[0]\n",
    "\n",
    "    ret = {\n",
    "        'lane_embedding_feats': lane_embedding_feats,\n",
    "        'lane_coordinates': lane_coordinate\n",
    "    }\n",
    "\n",
    "    return ret"
   ]
  },
  {
   "cell_type": "code",
   "execution_count": 22,
   "id": "48f0f743-9662-4bfa-8704-792d73720d75",
   "metadata": {},
   "outputs": [],
   "source": [
    "get_lane_embedding_feats_result = _get_lane_embedding_feats(\n",
    "    binary_seg_ret=morphological_ret,\n",
    "    instance_seg_ret=instance_seg_result\n",
    ")"
   ]
  },
  {
   "cell_type": "code",
   "execution_count": 23,
   "id": "99977d56-eacc-46ad-80ea-008666060892",
   "metadata": {},
   "outputs": [],
   "source": [
    "from sklearn.cluster import DBSCAN\n",
    "from sklearn.preprocessing import StandardScaler\n",
    "\n",
    "def _embedding_feats_dbscan_cluster(embedding_image_feats):\n",
    "    \"\"\"\n",
    "    dbscan cluster\n",
    "    :param embedding_image_feats:\n",
    "    :return:\n",
    "    \"\"\"\n",
    "    db = DBSCAN(eps=0.35, min_samples=300)\n",
    "    try:\n",
    "        features = StandardScaler().fit_transform(embedding_image_feats)\n",
    "        db.fit(features)\n",
    "    except Exception as err:\n",
    "        log.error(err)\n",
    "        ret = {\n",
    "            'origin_features': None,\n",
    "            'cluster_nums': 0,\n",
    "            'db_labels': None,\n",
    "            'unique_labels': None,\n",
    "            'cluster_center': None\n",
    "        }\n",
    "        return ret\n",
    "    db_labels = db.labels_\n",
    "    unique_labels = np.unique(db_labels)\n",
    "\n",
    "    num_clusters = len(unique_labels)\n",
    "    cluster_centers = db.components_\n",
    "\n",
    "    ret = {\n",
    "        'origin_features': features,\n",
    "        'cluster_nums': num_clusters,\n",
    "        'db_labels': db_labels,\n",
    "        'unique_labels': unique_labels,\n",
    "        'cluster_center': cluster_centers\n",
    "    }\n",
    "\n",
    "    return ret"
   ]
  },
  {
   "cell_type": "code",
   "execution_count": 24,
   "id": "16d581ec-522f-41c1-938f-227458e3c1b5",
   "metadata": {},
   "outputs": [],
   "source": [
    "dbscan_cluster_result =_embedding_feats_dbscan_cluster(\n",
    "            embedding_image_feats=get_lane_embedding_feats_result['lane_embedding_feats']\n",
    "        )"
   ]
  },
  {
   "cell_type": "code",
   "execution_count": 25,
   "id": "5bdd5541-ce7d-4a17-a487-d8cefab32d92",
   "metadata": {},
   "outputs": [
    {
     "data": {
      "text/plain": [
       "4"
      ]
     },
     "execution_count": 25,
     "metadata": {},
     "output_type": "execute_result"
    }
   ],
   "source": [
    "dbscan_cluster_result['cluster_nums']"
   ]
  },
  {
   "cell_type": "code",
   "execution_count": 26,
   "id": "a6bd8dc0-cf61-4034-bad2-7c1f70b1f1be",
   "metadata": {},
   "outputs": [],
   "source": [
    "mask = np.zeros(shape=[binary_seg_result.shape[0], binary_seg_result.shape[1], 3], dtype=np.uint8)\n",
    "db_labels = dbscan_cluster_result['db_labels']\n",
    "unique_labels = dbscan_cluster_result['unique_labels']\n",
    "coord = get_lane_embedding_feats_result['lane_coordinates']\n",
    "lane_coords = []\n",
    "\n",
    "_color_map = [np.array([255, 0, 0]),\n",
    "              np.array([0, 255, 0]),\n",
    "              np.array([0, 0, 255]),\n",
    "              np.array([125, 125, 0]),\n",
    "              np.array([0, 125, 125]),\n",
    "              np.array([125, 0, 125]),\n",
    "              np.array([50, 100, 50]),\n",
    "              np.array([100, 50, 100])]\n",
    "\n",
    "for index, label in enumerate(unique_labels.tolist()):\n",
    "    if label == -1:\n",
    "        continue\n",
    "    idx = np.where(db_labels == label)\n",
    "    pix_coord_idx = tuple((coord[idx][:, 1], coord[idx][:, 0]))\n",
    "    mask[pix_coord_idx] = _color_map[index]\n",
    "    lane_coords.append(coord[idx])"
   ]
  },
  {
   "cell_type": "code",
   "execution_count": 27,
   "id": "06ed75c6-15be-4cd3-ba25-a19efc757c65",
   "metadata": {},
   "outputs": [],
   "source": [
    "mask_image=mask"
   ]
  },
  {
   "cell_type": "code",
   "execution_count": 28,
   "id": "58769169-cf12-47c2-b27e-4784820b9c33",
   "metadata": {},
   "outputs": [],
   "source": [
    "if mask_image is None:\n",
    "    print('yes')"
   ]
  },
  {
   "cell_type": "code",
   "execution_count": 29,
   "id": "d2211283-beab-4a37-98b0-8c3f6f52fb94",
   "metadata": {},
   "outputs": [
    {
     "data": {
      "text/plain": [
       "<matplotlib.image.AxesImage at 0x7ff20629d990>"
      ]
     },
     "execution_count": 29,
     "metadata": {},
     "output_type": "execute_result"
    },
    {
     "data": {
      "image/png": "[encoded data removed]",
      "text/plain": [
       "<Figure size 432x288 with 1 Axes>"
      ]
     },
     "metadata": {
      "needs_background": "light"
     },
     "output_type": "display_data"
    }
   ],
   "source": [
    "plt.imshow(mask_image)"
   ]
  },
  {
   "cell_type": "code",
   "execution_count": 28,
   "id": "0d0ff577-a339-4727-bba2-82a16357afa9",
   "metadata": {},
   "outputs": [],
   "source": [
    "def _load_remap_matrix(_ipm_remap_file_path):\n",
    "    \"\"\"\n",
    "\n",
    "    :return:\n",
    "    \"\"\"\n",
    "    fs = cv2.FileStorage(_ipm_remap_file_path, cv2.FILE_STORAGE_READ)\n",
    "\n",
    "    remap_to_ipm_x = fs.getNode('remap_ipm_x').mat()\n",
    "    remap_to_ipm_y = fs.getNode('remap_ipm_y').mat()\n",
    "\n",
    "    ret = {\n",
    "        'remap_to_ipm_x': remap_to_ipm_x,\n",
    "        'remap_to_ipm_y': remap_to_ipm_y,\n",
    "    }\n",
    "\n",
    "    fs.release()\n",
    "\n",
    "    return ret\n",
    "remap_file_load_ret = _load_remap_matrix('/home/ict1234/Desktop/panorama/data/weight/tusimple_ipm_remap.yml')\n",
    "_remap_to_ipm_x = remap_file_load_ret['remap_to_ipm_x']\n",
    "_remap_to_ipm_y = remap_file_load_ret['remap_to_ipm_y']"
   ]
  },
  {
   "cell_type": "code",
   "execution_count": 104,
   "id": "be4a1b0f-2180-41fa-9883-ba628338e088",
   "metadata": {},
   "outputs": [],
   "source": [
    "coords = lane_coords[3]\n",
    "tmp_mask = np.zeros(shape=(720, 1280), dtype=np.uint8)\n",
    "tmp_mask[tuple((np.int_(coords[:, 1] * 720 / 256), np.int_(coords[:, 0] * 1280 / 512)))] = 255"
   ]
  },
  {
   "cell_type": "code",
   "execution_count": 130,
   "id": "a3f68c5a-cbfe-4889-b60c-c33fae97e2fd",
   "metadata": {},
   "outputs": [],
   "source": [
    "coords = lane_coords[3]\n",
    "tmp_mask = np.zeros(shape=(1080, 1920), dtype=np.uint8)\n",
    "tmp_mask[tuple((np.int_(coords[:, 1] * 1080 / 256), np.int_(coords[:, 0] * 1920 / 512)))] = 255 # 이렇게 해도 잘나옴.."
   ]
  },
  {
   "cell_type": "code",
   "execution_count": 131,
   "id": "1d13d587-e32b-43ba-92f6-e2c1d140bb0a",
   "metadata": {},
   "outputs": [],
   "source": [
    "# ## 실행하지 말 것 ##\n",
    "# cv2.imshow('image', tmp_mask)\n",
    "# cv2.waitKey(0)\n",
    "# cv2.destroyAllWindows() "
   ]
  },
  {
   "cell_type": "code",
   "execution_count": 132,
   "id": "29806309-dc0d-4d1c-b476-efaf784a442b",
   "metadata": {},
   "outputs": [],
   "source": [
    "tmp_ipm_mask = cv2.remap(\n",
    "    tmp_mask,\n",
    "    _remap_to_ipm_x,\n",
    "    _remap_to_ipm_y,\n",
    "    interpolation=cv2.INTER_NEAREST\n",
    ")"
   ]
  },
  {
   "cell_type": "code",
   "execution_count": 133,
   "id": "76f37589-f63e-4b8e-bea4-1d5ec3b0371d",
   "metadata": {
    "tags": []
   },
   "outputs": [],
   "source": [
    "fit_params = []\n",
    "src_lane_pts = []  # lane pts every single lane\n",
    "lane_point_list=[]\n",
    "nonzero_y = np.array(tmp_ipm_mask.nonzero()[0])\n",
    "nonzero_x = np.array(tmp_ipm_mask.nonzero()[1])\n",
    "fit_param = np.polyfit(nonzero_y, nonzero_x, 2)"
   ]
  },
  {
   "cell_type": "code",
   "execution_count": 134,
   "id": "5a1dc3a9-8840-4553-859c-f9c52f952ee8",
   "metadata": {},
   "outputs": [],
   "source": [
    "fit_param = np.polyfit(nonzero_y, nonzero_x, 2)\n",
    "fit_params.append(fit_param)\n",
    "\n",
    "[ipm_image_height, ipm_image_width] = tmp_ipm_mask.shape\n",
    "plot_y = np.linspace(10, ipm_image_height, ipm_image_height - 10)\n",
    "fit_x = fit_param[0] * plot_y ** 2 + fit_param[1] * plot_y + fit_param[2]\n",
    "# fit_x = fit_param[0] * plot_y ** 3 + fit_param[1] * plot_y ** 2 + fit_param[2] * plot_y + fit_param[3]\n",
    "\n",
    "lane_pts = []\n",
    "for index in range(0, plot_y.shape[0], 5):\n",
    "    src_x = _remap_to_ipm_x[\n",
    "        int(plot_y[index]), int(np.clip(fit_x[index], 0, ipm_image_width - 1))]\n",
    "    if src_x <= 0:\n",
    "        continue\n",
    "    src_y = _remap_to_ipm_y[\n",
    "        int(plot_y[index]), int(np.clip(fit_x[index], 0, ipm_image_width - 1))]\n",
    "    src_y = src_y if src_y > 0 else 0\n",
    "\n",
    "    lane_pts.append([src_x, src_y])\n",
    "\n",
    "src_lane_pts.append(lane_pts)"
   ]
  },
  {
   "cell_type": "code",
   "execution_count": 135,
   "id": "532f5a6e-dc07-43df-b1aa-f19306747fd7",
   "metadata": {},
   "outputs": [],
   "source": [
    "single_lane_pt_x = np.array(single_lane_pts, dtype=np.float32)[:, 0]\n",
    "single_lane_pt_y = np.array(single_lane_pts, dtype=np.float32)[:, 1]"
   ]
  },
  {
   "cell_type": "code",
   "execution_count": 136,
   "id": "2933bb83-b9ac-4e9e-9e90-12076b4e49bb",
   "metadata": {},
   "outputs": [],
   "source": [
    "source_image = cv2.resize(image_origin,(1280,720))"
   ]
  },
  {
   "cell_type": "code",
   "execution_count": 138,
   "id": "b7282020-65e8-4be8-9f70-bbc4067831c3",
   "metadata": {},
   "outputs": [],
   "source": [
    "import math\n",
    "source_image_width = 1920\n",
    "data_source='tusimple'\n",
    "source_image\n",
    "for index, single_lane_pts in enumerate(src_lane_pts):\n",
    "    single_lane_pt_x = np.array(single_lane_pts, dtype=np.float32)[:, 0]\n",
    "    single_lane_pt_y = np.array(single_lane_pts, dtype=np.float32)[:, 1]\n",
    "    if data_source == 'tusimple':\n",
    "        start_plot_y = 300\n",
    "        end_plot_y = 1000\n",
    "    else:\n",
    "        raise ValueError('Wrong data source now only support tusimple')\n",
    "    step = int(math.floor((end_plot_y - start_plot_y) / 10))\n",
    "    for plot_y in np.linspace(start_plot_y, end_plot_y, step):\n",
    "        diff = single_lane_pt_y - plot_y\n",
    "        fake_diff_bigger_than_zero = diff.copy()\n",
    "        fake_diff_smaller_than_zero = diff.copy()\n",
    "        fake_diff_bigger_than_zero[np.where(diff <= 0)] = float('inf')\n",
    "        fake_diff_smaller_than_zero[np.where(diff > 0)] = float('-inf')\n",
    "        idx_low = np.argmax(fake_diff_smaller_than_zero)\n",
    "        idx_high = np.argmin(fake_diff_bigger_than_zero)\n",
    "\n",
    "        previous_src_pt_x = single_lane_pt_x[idx_low]\n",
    "        previous_src_pt_y = single_lane_pt_y[idx_low]\n",
    "        last_src_pt_x = single_lane_pt_x[idx_high]\n",
    "        last_src_pt_y = single_lane_pt_y[idx_high]\n",
    "\n",
    "        if previous_src_pt_y < start_plot_y or last_src_pt_y < start_plot_y or \\\n",
    "                fake_diff_smaller_than_zero[idx_low] == float('-inf') or \\\n",
    "                fake_diff_bigger_than_zero[idx_high] == float('inf'):\n",
    "            continue\n",
    "\n",
    "        interpolation_src_pt_x = (abs(previous_src_pt_y - plot_y) * previous_src_pt_x +\n",
    "                                  abs(last_src_pt_y - plot_y) * last_src_pt_x) / \\\n",
    "                                 (abs(previous_src_pt_y - plot_y) + abs(last_src_pt_y - plot_y))\n",
    "        interpolation_src_pt_y = (abs(previous_src_pt_y - plot_y) * previous_src_pt_y +\n",
    "                                  abs(last_src_pt_y - plot_y) * last_src_pt_y) / \\\n",
    "                                 (abs(previous_src_pt_y - plot_y) + abs(last_src_pt_y - plot_y))\n",
    "\n",
    "        if interpolation_src_pt_x > source_image_width or interpolation_src_pt_x < 10:\n",
    "            continue\n",
    "\n",
    "        lane_color = _color_map[index].tolist()\n",
    "        cv2.circle(source_image, (int(interpolation_src_pt_x),\n",
    "                                  int(interpolation_src_pt_y)), 5, lane_color, -1)\n",
    "       \n",
    "        # point coord append\n",
    "        lane_color.extend([int(interpolation_src_pt_x),int(interpolation_src_pt_y)])\n",
    "        lane_point_list.append(lane_color)"
   ]
  },
  {
   "cell_type": "code",
   "execution_count": 139,
   "id": "69854ead-165d-4cae-a04f-b41e1fa07e9b",
   "metadata": {},
   "outputs": [
    {
     "data": {
      "text/plain": [
       "<matplotlib.image.AxesImage at 0x7fd2ac1e69d0>"
      ]
     },
     "execution_count": 139,
     "metadata": {},
     "output_type": "execute_result"
    },
    {
     "data": {
      "image/png": "[encoded data removed]",
      "text/plain": [
       "<Figure size 432x288 with 1 Axes>"
      ]
     },
     "metadata": {
      "needs_background": "light"
     },
     "output_type": "display_data"
    }
   ],
   "source": [
    "plt.imshow(source_image)"
   ]
  },
  {
   "cell_type": "code",
   "execution_count": null,
   "id": "9266f8a3-e884-4cec-8e6e-973cb37d05b8",
   "metadata": {},
   "outputs": [],
   "source": []
  }
 ],
 "metadata": {
  "kernelspec": {
   "display_name": "Python 3 (ipykernel)",
   "language": "python",
   "name": "python3"
  },
  "language_info": {
   "codemirror_mode": {
    "name": "ipython",
    "version": 3
   },
   "file_extension": ".py",
   "mimetype": "text/x-python",
   "name": "python",
   "nbconvert_exporter": "python",
   "pygments_lexer": "ipython3",
   "version": "3.7.11"
  }
 },
 "nbformat": 4,
 "nbformat_minor": 5
}
