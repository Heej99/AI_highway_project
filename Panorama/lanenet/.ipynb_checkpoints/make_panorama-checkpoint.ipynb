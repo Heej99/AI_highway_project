{
 "cells": [
  {
   "cell_type": "markdown",
   "id": "d1ca9d04",
   "metadata": {},
   "source": [
    "# PATH setting"
   ]
  },
  {
   "cell_type": "code",
   "execution_count": 1,
   "id": "6073334f",
   "metadata": {},
   "outputs": [],
   "source": [
    "import sys \n",
    "sys.path.append(\"/home/user/lanenet/\")\n",
    "from config.read_config import config_\n",
    "\n",
    "PATH_CFG = config_(\"/home/user/lanenet/config/path.yaml\")"
   ]
  },
  {
   "cell_type": "markdown",
   "id": "e80039f2",
   "metadata": {},
   "source": [
    "# Library import"
   ]
  },
  {
   "cell_type": "code",
   "execution_count": 2,
   "id": "360c2f2e",
   "metadata": {
    "tags": []
   },
   "outputs": [
    {
     "name": "stdout",
     "output_type": "stream",
     "text": [
      "WARNING:tensorflow:From /home/user/anaconda3/envs/lanenet/lib/python3.6/site-packages/tensorflow/python/compat/v2_compat.py:96: disable_resource_variables (from tensorflow.python.ops.variable_scope) is deprecated and will be removed in a future version.\n",
      "Instructions for updating:\n",
      "non-resource variables are not supported in the long term\n"
     ]
    }
   ],
   "source": [
    "# Built-in function\n",
    "import numpy as np\n",
    "import pandas as pd\n",
    "import cv2\n",
    "import os\n",
    "from glob import glob\n",
    "import pickle\n",
    "\n",
    "# UUser-Defined Function\n",
    "sys.path.extend(PATH_CFG['FUNC_PATH'])\n",
    "\n",
    "from draw_file import sorted_  # sorted file name\n",
    "from makeFHD import match_gps # make FHD\n",
    "from evaluate_lanenet_on_tusimple import eval_lanenet #make NPY\n",
    "from Stitching.makeTFHD import transformed_FHD_object  #make TFHD"
   ]
  },
  {
   "cell_type": "markdown",
   "id": "72a4d2ea",
   "metadata": {
    "tags": []
   },
   "source": [
    "# Step1 :  make FHD"
   ]
  },
  {
   "cell_type": "code",
   "execution_count": 3,
   "id": "0f930a57",
   "metadata": {},
   "outputs": [],
   "source": [
    "gps_path = PATH_CFG['RAW_PATH']['GPS']\n",
    "video_path = PATH_CFG['RAW_PATH']['VIDEO']\n",
    "save_fhd_dir = PATH_CFG['DATA_PATH']['FHD_DIR']\n",
    "\n",
    "gps_df = pd.read_csv(gps_path)\n",
    "makefhd=match_gps.gps_match(gps_df,video_path,save_fhd_dir)\n",
    "fhd_list,fhd_num_list = makefhd.makeFHDList(SkipSec=30,frame_num=100,saveFHD=True)"
   ]
  },
  {
   "cell_type": "code",
   "execution_count": 4,
   "id": "2246082e",
   "metadata": {},
   "outputs": [],
   "source": [
    "with open(PATH_CFG['UPPER_PATH']+'GH011044/fhd_num.pkl','wb') as f:\n",
    "    pickle.dump(fhd_num_list,f)"
   ]
  },
  {
   "cell_type": "markdown",
   "id": "3e3ea67b",
   "metadata": {},
   "source": [
    "# Step2 :  make NPY"
   ]
  },
  {
   "cell_type": "code",
   "execution_count": 5,
   "id": "de902e77",
   "metadata": {
    "scrolled": true
   },
   "outputs": [
    {
     "name": "stdout",
     "output_type": "stream",
     "text": [
      "INFO:tensorflow:Restoring parameters from /home/user/lanenet/data/weight/tusimple_train_miou=0.7543.ckpt-904\n"
     ]
    },
    {
     "name": "stderr",
     "output_type": "stream",
     "text": [
      "I0216 16:48:57.390591 13564 saver.py:1298] Restoring parameters from /home/user/lanenet/data/weight/tusimple_train_miou=0.7543.ckpt-904\n",
      "  0%|          | 0/100 [00:00<?, ?it/s]2022-02-16 16:48:59.410 | INFO     | evaluate_lanenet_on_tusimple:eval_lanenet:107 - Mean inference time every single image: 1.80298s\n",
      "100%|██████████| 100/100 [00:09<00:00, 10.86it/s]\n"
     ]
    }
   ],
   "source": [
    "npy_list= eval_lanenet(npysave=True,outputimage_save=True)"
   ]
  },
  {
   "cell_type": "markdown",
   "id": "76c84ab6-5f2c-4520-a89a-7e646ab51a21",
   "metadata": {},
   "source": [
    "## (Option) Draw fhd, npy\n",
    "\n",
    "if not using above code"
   ]
  },
  {
   "cell_type": "code",
   "execution_count": 6,
   "id": "5a3c6740",
   "metadata": {},
   "outputs": [],
   "source": [
    "with open(PATH_CFG['UPPER_PATH']+'GH011110/fhd_num.pkl','rb') as f:\n",
    "    fhd_num_list = pickle.load(f)\n",
    "\n",
    "fhd_list = sorted_(upper_path=PATH_CFG['DATA_PATH']['FHD_DIR']+'/fhd_',data_type=\"jpg\",num_list=fhd_num_list)\n",
    "npy_list = sorted_(upper_path=PATH_CFG['DATA_PATH']['NPY_DIR']+'/fhd_',data_type=\"npy\",num_list=fhd_num_list)\n",
    "\n",
    "from Stitching.makeTFHD import transformed_FHD_path  #make TFHD"
   ]
  },
  {
   "cell_type": "markdown",
   "id": "5f9f0242",
   "metadata": {
    "tags": []
   },
   "source": [
    "# Step3 : make Panorama"
   ]
  },
  {
   "cell_type": "code",
   "execution_count": 7,
   "id": "0edd8439",
   "metadata": {},
   "outputs": [],
   "source": [
    "# for list type \n",
    "#tfhd_list=transformed_FHD_object(fhd_list = fhd_list, npy_list = npy_list,fhd_num_list =fhd_num_list, saveTFHD=True)\n",
    "\n",
    "# for path_list type\n",
    "tfhd_list=transformed_FHD_path(fhd_list = fhd_list, npy_list = npy_list,fhd_num_list =fhd_num_list, saveTFHD=False)"
   ]
  },
  {
   "cell_type": "code",
   "execution_count": 8,
   "id": "301ed38e",
   "metadata": {},
   "outputs": [
    {
     "data": {
      "text/plain": [
       "True"
      ]
     },
     "execution_count": 8,
     "metadata": {},
     "output_type": "execute_result"
    }
   ],
   "source": [
    "panorama = cv2.hconcat(tfhd_list)\n",
    "cv2.imwrite(PATH_CFG['RESULT_PATH']+'/panorama_GH011044_가변.jpg',panorama)"
   ]
  },
  {
   "cell_type": "code",
   "execution_count": null,
   "id": "78767885-edc9-4fc2-b069-d266641d01de",
   "metadata": {},
   "outputs": [],
   "source": []
  }
 ],
 "metadata": {
  "kernelspec": {
   "display_name": "Python 3",
   "language": "python",
   "name": "python3"
  },
  "language_info": {
   "codemirror_mode": {
    "name": "ipython",
    "version": 3
   },
   "file_extension": ".py",
   "mimetype": "text/x-python",
   "name": "python",
   "nbconvert_exporter": "python",
   "pygments_lexer": "ipython3",
   "version": "3.6.13"
  }
 },
 "nbformat": 4,
 "nbformat_minor": 5
}
