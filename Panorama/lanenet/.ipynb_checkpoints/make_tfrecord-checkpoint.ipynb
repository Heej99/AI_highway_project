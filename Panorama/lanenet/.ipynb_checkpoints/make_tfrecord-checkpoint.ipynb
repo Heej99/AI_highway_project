{
 "cells": [
  {
   "cell_type": "markdown",
   "id": "dfb2d34e",
   "metadata": {},
   "source": [
    "바꾼것 정리  \n",
    "\n",
    "- 1. config에 있는 데이터셋 경로 ( ROOT~ -> ./data/\n",
    "- 2. training_data_example/image => training_data_example/gt_image로 바꿈\n",
    "- 3. python tools/make_tusimple_tfrecords.py에 패키지 import 경로 추가\n",
    "\n",
    "알아낸 것 \n",
    "- 1. config <- 데이터 어떻게 할지 batchsize 같은거 모두 정리해둔 파일"
   ]
  },
  {
   "cell_type": "code",
   "execution_count": 1,
   "id": "8da9c23d-067c-481b-82b9-3c403193e954",
   "metadata": {},
   "outputs": [],
   "source": [
    "import sys \n",
    "sys.path.append(\"/home/yolo/Desktop/panorama/\")\n",
    "from config.read_config import config_\n",
    "\n",
    "PATH_CFG = config_(\"/home/yolo/Desktop/panorama/config/path.yaml\")\n",
    "\n",
    "\n",
    "# UUser-Defined Function\n",
    "sys.path.extend(PATH_CFG['FUNC_PATH'])\n",
    "\n",
    "from data_provider import lanenet_data_feed_pipline\n",
    "from local_utils.log_util import init_logger\n",
    "\n",
    "LOG = init_logger.get_logger(log_file_name_prefix='generate_tusimple_tfrecords')"
   ]
  },
  {
   "cell_type": "code",
   "execution_count": 2,
   "id": "15d07abd",
   "metadata": {},
   "outputs": [],
   "source": [
    "def generate_tfrecords():\n",
    "    \"\"\"\n",
    "\n",
    "    :return:\n",
    "    \"\"\"\n",
    "    producer = lanenet_data_feed_pipline.LaneNetDataProducer()\n",
    "    producer.generate_tfrecords()\n",
    "\n",
    "    return\n"
   ]
  },
  {
   "cell_type": "code",
   "execution_count": 3,
   "id": "9997b5ca",
   "metadata": {},
   "outputs": [
    {
     "name": "stderr",
     "output_type": "stream",
     "text": [
      "2022-02-04 10:31:35.620 | INFO     | data_provider.lanenet_data_feed_pipline:_generate_training_example_index_file:216 - Generating training example index file complete\n",
      "2022-02-04 10:31:35.621 | INFO     | data_provider.lanenet_data_feed_pipline:generate_tfrecords:87 - Start generating training example tfrecords\n",
      "I0204 10:31:35.622227 13717 tf_io_pipline_tools.py:58] Writing /home/yolo/Desktop/panorama/data/training_data_example/tfrecords/tusimple_train.tfrecords....\n"
     ]
    },
    {
     "name": "stdout",
     "output_type": "stream",
     "text": [
      "WARNING:tensorflow:From /home/yolo/Desktop/panorama/model/train_lanenet/data_provider/tf_io_pipline_tools.py:60: The name tf.python_io.TFRecordWriter is deprecated. Please use tf.io.TFRecordWriter instead.\n",
      "\n"
     ]
    },
    {
     "name": "stderr",
     "output_type": "stream",
     "text": [
      "W0204 10:31:35.622731 13717 module_wrapper.py:139] From /home/yolo/Desktop/panorama/model/train_lanenet/data_provider/tf_io_pipline_tools.py:60: The name tf.python_io.TFRecordWriter is deprecated. Please use tf.io.TFRecordWriter instead.\n",
      "\n",
      "I0204 10:31:36.526890 13717 tf_io_pipline_tools.py:103] Writing /home/yolo/Desktop/panorama/data/training_data_example/tfrecords/tusimple_train.tfrecords complete\n",
      "2022-02-04 10:31:36.527 | INFO     | data_provider.lanenet_data_feed_pipline:generate_tfrecords:101 - Generating training example tfrecords complete\n",
      "2022-02-04 10:31:36.528 | INFO     | data_provider.lanenet_data_feed_pipline:generate_tfrecords:104 - Start generating validation example tfrecords\n",
      "I0204 10:31:36.528940 13717 tf_io_pipline_tools.py:58] Writing /home/yolo/Desktop/panorama/data/training_data_example/tfrecords/tusimple_val.tfrecords....\n",
      "I0204 10:31:36.585032 13717 tf_io_pipline_tools.py:103] Writing /home/yolo/Desktop/panorama/data/training_data_example/tfrecords/tusimple_val.tfrecords complete\n",
      "2022-02-04 10:31:36.585 | INFO     | data_provider.lanenet_data_feed_pipline:generate_tfrecords:118 - Generating validation example tfrecords complete\n",
      "2022-02-04 10:31:36.585 | INFO     | data_provider.lanenet_data_feed_pipline:generate_tfrecords:121 - Start generating testing example tfrecords\n",
      "I0204 10:31:36.586972 13717 tf_io_pipline_tools.py:58] Writing /home/yolo/Desktop/panorama/data/training_data_example/tfrecords/tusimple_test.tfrecords....\n",
      "I0204 10:31:36.717888 13717 tf_io_pipline_tools.py:103] Writing /home/yolo/Desktop/panorama/data/training_data_example/tfrecords/tusimple_test.tfrecords complete\n",
      "2022-02-04 10:31:36.718 | INFO     | data_provider.lanenet_data_feed_pipline:generate_tfrecords:135 - Generating testing example tfrecords complete\n"
     ]
    }
   ],
   "source": [
    "if __name__ == '__main__':\n",
    "    \"\"\"\n",
    "    test\n",
    "    \"\"\"\n",
    "    generate_tfrecords()"
   ]
  },
  {
   "cell_type": "code",
   "execution_count": null,
   "id": "93572a90-4613-4a10-a129-c0d229bb406e",
   "metadata": {},
   "outputs": [],
   "source": []
  }
 ],
 "metadata": {
  "kernelspec": {
   "display_name": "Python 3 (ipykernel)",
   "language": "python",
   "name": "python3"
  },
  "language_info": {
   "codemirror_mode": {
    "name": "ipython",
    "version": 3
   },
   "file_extension": ".py",
   "mimetype": "text/x-python",
   "name": "python",
   "nbconvert_exporter": "python",
   "pygments_lexer": "ipython3",
   "version": "3.7.11"
  }
 },
 "nbformat": 4,
 "nbformat_minor": 5
}
