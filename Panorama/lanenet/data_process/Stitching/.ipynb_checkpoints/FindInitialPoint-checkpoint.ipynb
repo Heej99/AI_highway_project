{
 "cells": [
  {
   "cell_type": "code",
   "execution_count": 17,
   "id": "dbf9a315",
   "metadata": {},
   "outputs": [],
   "source": [
    "import cv2\n",
    "import sys \n",
    "from glob import glob\n",
    "import pickle\n",
    "sys.path.append(\"/home/yolo/Desktop/panorama/\")\n",
    "from config.read_config import config_\n",
    "\n",
    "PATH_CFG = config_(\"/home/yolo/Desktop/panorama/config/path.yaml\")\n",
    "PARAINIT_CFG = config_(\"/home/yolo/Desktop/panorama/config/panorama_para_init.yaml\")"
   ]
  },
  {
   "cell_type": "code",
   "execution_count": 16,
   "id": "e2d9aa73",
   "metadata": {},
   "outputs": [
    {
     "name": "stdout",
     "output_type": "stream",
     "text": [
      "(233, 371)\n",
      "(4, 458)\n",
      "(1010, 351)\n",
      "(1276, 443)\n"
     ]
    }
   ],
   "source": [
    "class homographyMat:\n",
    "   \n",
    "   def __init__(self):\n",
    "        self.point = []\n",
    "      \n",
    "   def onMouse(self, event, x, y, flags, param): # 마우스 이벤트 처리 콜백 함수 구현\n",
    "       if event == cv2.EVENT_LBUTTONDOWN:\n",
    "           cv2.circle(img, (x,y), 3, (0,255,0), -1) # 좌표에 초록색 동그라미 표시\n",
    "           cv2.imshow('image', img)\n",
    "           self.point.append([x,y])     # 마우스 좌표 저장\n",
    "\n",
    "with open(PATH_CFG['UPPER_PATH']+'Gunpo/fhd_num.pkl','rb') as f:\n",
    "    fhd_num_list = pickle.load(f)\n",
    "        \n",
    "img = cv2.imread(PATH_CFG['DATA_PATH']['FHD_DIR']+'/fhd_'+str(fhd_num_list[0])+'.jpg') # 이미지 파일 불러들이기\n",
    "cv2.imshow('image', img)\n",
    "\n",
    "\"\"\"\n",
    "LEFTUP, LEFT_DOWN, RIGHT_UP,RIGHT_DOWN 순으로 점찍기\n",
    "\"\"\"\n",
    "getPoint = homographyMat()    \n",
    "cv2.setMouseCallback('image', getPoint.onMouse)\n",
    "cv2.waitKey(0)\n",
    "cv2.destroyAllWindows()\n",
    "\n",
    "\n",
    "PARAINIT_CFG['POINT'].values = getPoint.point\n",
    "\n",
    "for i in getPoint.point:\n",
    "    print(i)"
   ]
  },
  {
   "cell_type": "code",
   "execution_count": null,
   "id": "bf144704",
   "metadata": {},
   "outputs": [],
   "source": []
  }
 ],
 "metadata": {
  "kernelspec": {
   "display_name": "Python 3 (ipykernel)",
   "language": "python",
   "name": "python3"
  },
  "language_info": {
   "codemirror_mode": {
    "name": "ipython",
    "version": 3
   },
   "file_extension": ".py",
   "mimetype": "text/x-python",
   "name": "python",
   "nbconvert_exporter": "python",
   "pygments_lexer": "ipython3",
   "version": "3.8.10"
  }
 },
 "nbformat": 4,
 "nbformat_minor": 5
}
