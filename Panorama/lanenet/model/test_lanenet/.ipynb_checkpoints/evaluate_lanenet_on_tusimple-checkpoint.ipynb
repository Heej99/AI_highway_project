{
 "cells": [
  {
   "cell_type": "code",
   "execution_count": 1,
   "id": "78a98a84",
   "metadata": {},
   "outputs": [
    {
     "ename": "ModuleNotFoundError",
     "evalue": "No module named 'path_config'",
     "output_type": "error",
     "traceback": [
      "\u001b[0;31m---------------------------------------------------------------------------\u001b[0m",
      "\u001b[0;31mModuleNotFoundError\u001b[0m                       Traceback (most recent call last)",
      "\u001b[0;32m/tmp/ipykernel_21813/2557748878.py\u001b[0m in \u001b[0;36m<module>\u001b[0;34m\u001b[0m\n\u001b[1;32m      4\u001b[0m \u001b[0msys\u001b[0m\u001b[0;34m.\u001b[0m\u001b[0mpath\u001b[0m\u001b[0;34m.\u001b[0m\u001b[0mappend\u001b[0m\u001b[0;34m(\u001b[0m\u001b[0;34m\"/home/yolo/Desktop/panorama/\"\u001b[0m\u001b[0;34m)\u001b[0m\u001b[0;34m\u001b[0m\u001b[0;34m\u001b[0m\u001b[0m\n\u001b[1;32m      5\u001b[0m \u001b[0;34m\u001b[0m\u001b[0m\n\u001b[0;32m----> 6\u001b[0;31m \u001b[0;32mfrom\u001b[0m \u001b[0mpath_config\u001b[0m \u001b[0;32mimport\u001b[0m \u001b[0mpath_setting\u001b[0m\u001b[0;34m\u001b[0m\u001b[0;34m\u001b[0m\u001b[0m\n\u001b[0m\u001b[1;32m      7\u001b[0m \u001b[0mPATH_CFG\u001b[0m \u001b[0;34m=\u001b[0m \u001b[0mpath_setting\u001b[0m\u001b[0;34m.\u001b[0m\u001b[0mPATH_CFG\u001b[0m\u001b[0;34m\u001b[0m\u001b[0;34m\u001b[0m\u001b[0m\n",
      "\u001b[0;31mModuleNotFoundError\u001b[0m: No module named 'path_config'"
     ]
    }
   ],
   "source": [
    "# path setting\n",
    "\n",
    "import sys \n",
    "sys.path.append(\"/home/yolo/Desktop/panorama/\")\n",
    "\n",
    "from path_config import path_setting\n",
    "PATH_CFG = path_setting.PATH_CFG"
   ]
  },
  {
   "cell_type": "code",
   "execution_count": 2,
   "id": "61f715e2",
   "metadata": {},
   "outputs": [],
   "source": [
    "# Built-in function\n",
    "import argparse\n",
    "import glob\n",
    "import os\n",
    "import os.path as ops\n",
    "import time\n",
    "import cv2\n",
    "import numpy as np\n",
    "import tensorflow as tf\n",
    "import tqdm\n",
    "import re\n",
    "\n",
    "# UUser-Defined Function\n",
    "import sys # 자체 모듈 import를 위한 경로 추가 (리눅스에서)\n",
    "sys.path.extend(PATH_CFG['FUNC_PATH'])\n",
    "\n",
    "from lanenet_model import lanenet\n",
    "from lanenet_model import lanenet_postprocess\n",
    "from local_utils.config_utils import parse_config_utils\n",
    "from local_utils.log_util import init_logger\n",
    "from create_directory import createDirectory\n",
    "\n",
    "CFG = parse_config_utils.lanenet_cfg\n",
    "LOG = init_logger.get_logger(log_file_name_prefix='lanenet_eval')\n"
   ]
  },
  {
   "cell_type": "code",
   "execution_count": 3,
   "id": "02585175",
   "metadata": {
    "scrolled": true
   },
   "outputs": [
    {
     "name": "stdout",
     "output_type": "stream",
     "text": [
      "python :  3.7.11 (default, Jul 27 2021, 14:32:16) \n",
      "[GCC 7.5.0]\n",
      "tensorflow :  1.15.0\n"
     ]
    }
   ],
   "source": [
    "## 버전 확인\n",
    "print(\"python : \",sys.version)\n",
    "print(\"tensorflow : \",tf.__version__)\n",
    "\n",
    "## 작동 확인\n",
    "#print(tf.test.is_built_with_cuda()) # CUDA로 빌드 되는지 확인\n",
    "#print(tf.test.is_built_with_gpu_support()) # CUDA와 같은 GPU로 빌드 되는지 확인\n"
   ]
  },
  {
   "cell_type": "code",
   "execution_count": 4,
   "id": "69ad3e19",
   "metadata": {},
   "outputs": [],
   "source": [
    "def eval_lanenet(path_config):\n",
    "    \"\"\"\n",
    "\n",
    "    :param src_dir:\n",
    "    :param weights_path:\n",
    "    :param save_dir:\n",
    "    :return:\n",
    "    \"\"\"\n",
    "    \n",
    "    weights_path = PATH_CFG['DATA_PATH']['WEIGHT_PATH']\n",
    "    fhd_dir = PATH_CFG['DATA_PATH']['FHD_DIR']\n",
    "    npy_dir = PATH_CFG['DATA_PATH']['NPY_DIR']\n",
    "    output_image_dir = PATH_CFG['DATA_PATH']['IMAGE_OUT_DIR']\n",
    "        \n",
    "    # make folder \n",
    "    createDirectory(npy_dir)\n",
    "    createDirectory(output_image_dir)\n",
    "    \n",
    "    # draw lanenet\n",
    "    input_tensor = tf.placeholder(dtype=tf.float32, shape=[1, 256, 512, 3], name='input_tensor')\n",
    "    net = lanenet.LaneNet(phase='test', cfg=CFG)\n",
    "    binary_seg_ret, instance_seg_ret = net.inference(input_tensor=input_tensor, name='LaneNet')\n",
    "    postprocessor = lanenet_postprocess.LaneNetPostProcessor(cfg=CFG)\n",
    "    \n",
    "    saver = tf.train.Saver()\n",
    "\n",
    "    # Set sess configuration\n",
    "    sess_config = tf.ConfigProto()\n",
    "    sess_config.gpu_options.per_process_gpu_memory_fraction = CFG.GPU.GPU_MEMORY_FRACTION\n",
    "    sess_config.gpu_options.allow_growth = CFG.GPU.TF_ALLOW_GROWTH\n",
    "    sess_config.gpu_options.allocator_type = 'BFC'\n",
    "\n",
    "    sess = tf.Session(config=sess_config)\n",
    "\n",
    "    with sess.as_default():\n",
    "\n",
    "        saver.restore(sess=sess, save_path=weights_path)\n",
    "\n",
    "        image_list = glob.glob('{:s}/*.jpg'.format(fhd_dir), recursive=True)\n",
    "        avg_time_cost = []\n",
    "        for index, image_path in tqdm.tqdm(enumerate(image_list), total=len(image_list)):\n",
    "\n",
    "            image = cv2.imread(image_path, cv2.IMREAD_COLOR)\n",
    "            image = cv2.resize(image, (1280, 720)) # 학습 크기로 맞추기\n",
    "            image_vis = image\n",
    "            image = cv2.resize(image, (512, 256), interpolation=cv2.INTER_LINEAR)\n",
    "            image = image / 127.5 - 1.0\n",
    "\n",
    "            t_start = time.time()\n",
    "            binary_seg_image, instance_seg_image = sess.run(\n",
    "                [binary_seg_ret, instance_seg_ret],\n",
    "                feed_dict={input_tensor: [image]}\n",
    "            )\n",
    "            avg_time_cost.append(time.time() - t_start)\n",
    "\n",
    "            postprocess_result,lane_point_line = postprocessor.postprocess(\n",
    "                binary_seg_result=binary_seg_image[0],\n",
    "                instance_seg_result=instance_seg_image[0],\n",
    "                source_image=image_vis\n",
    "            )\n",
    "\n",
    "            if index % 100 == 0:\n",
    "                LOG.info('Mean inference time every single image: {:.5f}s'.format(np.mean(avg_time_cost)))\n",
    "                avg_time_cost.clear()\n",
    "            \n",
    "            name = re.findall(r'fhd_\\d+',image_path)[0]\n",
    "            np.save(npy_dir + '/{0}'.format(name),lane_point_line)\n",
    "            cv2.imwrite(output_image_dir+\"/lanepoint_{0}.jpg\".format(name), postprocess_result['source_image'])\n",
    "\n",
    "    return "
   ]
  },
  {
   "cell_type": "code",
   "execution_count": 5,
   "id": "7581c400",
   "metadata": {},
   "outputs": [
    {
     "name": "stdout",
     "output_type": "stream",
     "text": [
      "WARNING:tensorflow:From /tmp/ipykernel_34544/1209546644.py:20: The name tf.placeholder is deprecated. Please use tf.compat.v1.placeholder instead.\n",
      "\n"
     ]
    },
    {
     "name": "stderr",
     "output_type": "stream",
     "text": [
      "W0114 13:04:31.512490 34544 module_wrapper.py:139] From /tmp/ipykernel_34544/1209546644.py:20: The name tf.placeholder is deprecated. Please use tf.compat.v1.placeholder instead.\n",
      "\n"
     ]
    },
    {
     "name": "stdout",
     "output_type": "stream",
     "text": [
      "WARNING:tensorflow:From /home/yolo/Desktop/panorama/original_lanenet/lanenet_model/lanenet.py:42: The name tf.variable_scope is deprecated. Please use tf.compat.v1.variable_scope instead.\n",
      "\n"
     ]
    },
    {
     "name": "stderr",
     "output_type": "stream",
     "text": [
      "W0114 13:04:31.530362 34544 module_wrapper.py:139] From /home/yolo/Desktop/panorama/original_lanenet/lanenet_model/lanenet.py:42: The name tf.variable_scope is deprecated. Please use tf.compat.v1.variable_scope instead.\n",
      "\n"
     ]
    },
    {
     "name": "stdout",
     "output_type": "stream",
     "text": [
      "WARNING:tensorflow:\n",
      "The TensorFlow contrib module will not be included in TensorFlow 2.0.\n",
      "For more information, please see:\n",
      "  * https://github.com/tensorflow/community/blob/master/rfcs/20180907-contrib-sunset.md\n",
      "  * https://github.com/tensorflow/addons\n",
      "  * https://github.com/tensorflow/io (for I/O related ops)\n",
      "If you depend on functionality not listed there, please file an issue.\n",
      "\n"
     ]
    },
    {
     "name": "stderr",
     "output_type": "stream",
     "text": [
      "W0114 13:04:31.532247 34544 lazy_loader.py:50] \n",
      "The TensorFlow contrib module will not be included in TensorFlow 2.0.\n",
      "For more information, please see:\n",
      "  * https://github.com/tensorflow/community/blob/master/rfcs/20180907-contrib-sunset.md\n",
      "  * https://github.com/tensorflow/addons\n",
      "  * https://github.com/tensorflow/io (for I/O related ops)\n",
      "If you depend on functionality not listed there, please file an issue.\n",
      "\n"
     ]
    },
    {
     "name": "stdout",
     "output_type": "stream",
     "text": [
      "WARNING:tensorflow:From /home/yolo/Desktop/panorama/original_lanenet/semantic_segmentation_zoo/cnn_basenet.py:70: The name tf.get_variable is deprecated. Please use tf.compat.v1.get_variable instead.\n",
      "\n"
     ]
    },
    {
     "name": "stderr",
     "output_type": "stream",
     "text": [
      "W0114 13:04:31.806205 34544 module_wrapper.py:139] From /home/yolo/Desktop/panorama/original_lanenet/semantic_segmentation_zoo/cnn_basenet.py:70: The name tf.get_variable is deprecated. Please use tf.compat.v1.get_variable instead.\n",
      "\n"
     ]
    },
    {
     "name": "stdout",
     "output_type": "stream",
     "text": [
      "WARNING:tensorflow:From /home/yolo/Desktop/panorama/original_lanenet/semantic_segmentation_zoo/cnn_basenet.py:352: batch_normalization (from tensorflow.python.layers.normalization) is deprecated and will be removed in a future version.\n",
      "Instructions for updating:\n",
      "Use keras.layers.BatchNormalization instead.  In particular, `tf.control_dependencies(tf.GraphKeys.UPDATE_OPS)` should not be used (consult the `tf.keras.layers.batch_normalization` documentation).\n"
     ]
    },
    {
     "name": "stderr",
     "output_type": "stream",
     "text": [
      "W0114 13:04:31.817540 34544 deprecation.py:323] From /home/yolo/Desktop/panorama/original_lanenet/semantic_segmentation_zoo/cnn_basenet.py:352: batch_normalization (from tensorflow.python.layers.normalization) is deprecated and will be removed in a future version.\n",
      "Instructions for updating:\n",
      "Use keras.layers.BatchNormalization instead.  In particular, `tf.control_dependencies(tf.GraphKeys.UPDATE_OPS)` should not be used (consult the `tf.keras.layers.batch_normalization` documentation).\n"
     ]
    },
    {
     "name": "stdout",
     "output_type": "stream",
     "text": [
      "WARNING:tensorflow:From /home/yolo/anaconda3/envs/lanenet/lib/python3.7/site-packages/tensorflow_core/python/layers/normalization.py:327: Layer.apply (from tensorflow.python.keras.engine.base_layer) is deprecated and will be removed in a future version.\n",
      "Instructions for updating:\n",
      "Please use `layer.__call__` method instead.\n"
     ]
    },
    {
     "name": "stderr",
     "output_type": "stream",
     "text": [
      "W0114 13:04:31.819051 34544 deprecation.py:323] From /home/yolo/anaconda3/envs/lanenet/lib/python3.7/site-packages/tensorflow_core/python/layers/normalization.py:327: Layer.apply (from tensorflow.python.keras.engine.base_layer) is deprecated and will be removed in a future version.\n",
      "Instructions for updating:\n",
      "Please use `layer.__call__` method instead.\n"
     ]
    },
    {
     "name": "stdout",
     "output_type": "stream",
     "text": [
      "WARNING:tensorflow:From /home/yolo/Desktop/panorama/original_lanenet/semantic_segmentation_zoo/cnn_basenet.py:177: The name tf.nn.max_pool is deprecated. Please use tf.nn.max_pool2d instead.\n",
      "\n"
     ]
    },
    {
     "name": "stderr",
     "output_type": "stream",
     "text": [
      "W0114 13:04:32.000540 34544 module_wrapper.py:139] From /home/yolo/Desktop/panorama/original_lanenet/semantic_segmentation_zoo/cnn_basenet.py:177: The name tf.nn.max_pool is deprecated. Please use tf.nn.max_pool2d instead.\n",
      "\n"
     ]
    },
    {
     "name": "stdout",
     "output_type": "stream",
     "text": [
      "WARNING:tensorflow:From /home/yolo/Desktop/panorama/original_lanenet/semantic_segmentation_zoo/cnn_basenet.py:201: The name tf.nn.avg_pool is deprecated. Please use tf.nn.avg_pool2d instead.\n",
      "\n"
     ]
    },
    {
     "name": "stderr",
     "output_type": "stream",
     "text": [
      "W0114 13:04:32.651360 34544 module_wrapper.py:139] From /home/yolo/Desktop/panorama/original_lanenet/semantic_segmentation_zoo/cnn_basenet.py:201: The name tf.nn.avg_pool is deprecated. Please use tf.nn.avg_pool2d instead.\n",
      "\n"
     ]
    },
    {
     "name": "stdout",
     "output_type": "stream",
     "text": [
      "WARNING:tensorflow:From /home/yolo/Desktop/panorama/original_lanenet/semantic_segmentation_zoo/bisenet_v2.py:584: The name tf.image.resize_bilinear is deprecated. Please use tf.compat.v1.image.resize_bilinear instead.\n",
      "\n"
     ]
    },
    {
     "name": "stderr",
     "output_type": "stream",
     "text": [
      "W0114 13:04:32.698211 34544 module_wrapper.py:139] From /home/yolo/Desktop/panorama/original_lanenet/semantic_segmentation_zoo/bisenet_v2.py:584: The name tf.image.resize_bilinear is deprecated. Please use tf.compat.v1.image.resize_bilinear instead.\n",
      "\n"
     ]
    },
    {
     "name": "stdout",
     "output_type": "stream",
     "text": [
      "WARNING:tensorflow:From /tmp/ipykernel_34544/1209546644.py:25: The name tf.train.Saver is deprecated. Please use tf.compat.v1.train.Saver instead.\n",
      "\n"
     ]
    },
    {
     "name": "stderr",
     "output_type": "stream",
     "text": [
      "W0114 13:04:33.028868 34544 module_wrapper.py:139] From /tmp/ipykernel_34544/1209546644.py:25: The name tf.train.Saver is deprecated. Please use tf.compat.v1.train.Saver instead.\n",
      "\n"
     ]
    },
    {
     "name": "stdout",
     "output_type": "stream",
     "text": [
      "WARNING:tensorflow:From /tmp/ipykernel_34544/1209546644.py:28: The name tf.ConfigProto is deprecated. Please use tf.compat.v1.ConfigProto instead.\n",
      "\n"
     ]
    },
    {
     "name": "stderr",
     "output_type": "stream",
     "text": [
      "W0114 13:04:33.206318 34544 module_wrapper.py:139] From /tmp/ipykernel_34544/1209546644.py:28: The name tf.ConfigProto is deprecated. Please use tf.compat.v1.ConfigProto instead.\n",
      "\n"
     ]
    },
    {
     "name": "stdout",
     "output_type": "stream",
     "text": [
      "WARNING:tensorflow:From /tmp/ipykernel_34544/1209546644.py:33: The name tf.Session is deprecated. Please use tf.compat.v1.Session instead.\n",
      "\n"
     ]
    },
    {
     "name": "stderr",
     "output_type": "stream",
     "text": [
      "W0114 13:04:33.207298 34544 module_wrapper.py:139] From /tmp/ipykernel_34544/1209546644.py:33: The name tf.Session is deprecated. Please use tf.compat.v1.Session instead.\n",
      "\n",
      "2022-01-14 13:04:33.208607: I tensorflow/core/platform/cpu_feature_guard.cc:142] Your CPU supports instructions that this TensorFlow binary was not compiled to use: AVX2 FMA\n"
     ]
    },
    {
     "name": "stdout",
     "output_type": "stream",
     "text": [
      "INFO:tensorflow:Restoring parameters from /home/yolo/Desktop/panorama/data/weight/tusimple_lanenet.ckpt\n"
     ]
    },
    {
     "name": "stderr",
     "output_type": "stream",
     "text": [
      "2022-01-14 13:04:33.230688: I tensorflow/core/platform/profile_utils/cpu_utils.cc:94] CPU Frequency: 2899885000 Hz\n",
      "2022-01-14 13:04:33.231197: I tensorflow/compiler/xla/service/service.cc:168] XLA service 0x55b04b427fb0 initialized for platform Host (this does not guarantee that XLA will be used). Devices:\n",
      "2022-01-14 13:04:33.231231: I tensorflow/compiler/xla/service/service.cc:176]   StreamExecutor device (0): Host, Default Version\n",
      "2022-01-14 13:04:33.233098: I tensorflow/stream_executor/platform/default/dso_loader.cc:44] Successfully opened dynamic library libcuda.so.1\n",
      "2022-01-14 13:04:33.253142: E tensorflow/stream_executor/cuda/cuda_driver.cc:318] failed call to cuInit: CUDA_ERROR_UNKNOWN: unknown error\n",
      "2022-01-14 13:04:33.253167: I tensorflow/stream_executor/cuda/cuda_diagnostics.cc:169] retrieving CUDA diagnostic information for host: yolo-ThinkStation-P320-Tiny\n",
      "2022-01-14 13:04:33.253172: I tensorflow/stream_executor/cuda/cuda_diagnostics.cc:176] hostname: yolo-ThinkStation-P320-Tiny\n",
      "2022-01-14 13:04:33.253269: I tensorflow/stream_executor/cuda/cuda_diagnostics.cc:200] libcuda reported version is: 460.73.1\n",
      "2022-01-14 13:04:33.253289: I tensorflow/stream_executor/cuda/cuda_diagnostics.cc:204] kernel reported version is: 460.73.1\n",
      "2022-01-14 13:04:33.253294: I tensorflow/stream_executor/cuda/cuda_diagnostics.cc:310] kernel version seems to match DSO: 460.73.1\n",
      "I0114 13:04:33.254131 34544 saver.py:1284] Restoring parameters from /home/yolo/Desktop/panorama/data/weight/tusimple_lanenet.ckpt\n",
      "  0%|                                                   | 0/100 [00:00<?, ?it/s]2022-01-14 13:04:34.228 | INFO     | __main__:eval_lanenet:63 - Mean inference time every single image: 0.35667s\n",
      "100%|█████████████████████████████████████████| 100/100 [00:41<00:00,  2.29it/s]\n"
     ]
    }
   ],
   "source": [
    "if __name__ == '__main__':\n",
    "    \n",
    "    eval_lanenet(\n",
    "        path_config=PATH_CFG\n",
    "    )"
   ]
  },
  {
   "cell_type": "code",
   "execution_count": null,
   "id": "67005f0d",
   "metadata": {},
   "outputs": [],
   "source": []
  }
 ],
 "metadata": {
  "kernelspec": {
   "display_name": "Python 3 (ipykernel)",
   "language": "python",
   "name": "python3"
  },
  "language_info": {
   "codemirror_mode": {
    "name": "ipython",
    "version": 3
   },
   "file_extension": ".py",
   "mimetype": "text/x-python",
   "name": "python",
   "nbconvert_exporter": "python",
   "pygments_lexer": "ipython3",
   "version": "3.7.11"
  }
 },
 "nbformat": 4,
 "nbformat_minor": 5
}
