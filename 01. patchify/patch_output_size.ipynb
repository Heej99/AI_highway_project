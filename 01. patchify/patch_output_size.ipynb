{
 "cells": [
  {
   "cell_type": "markdown",
   "id": "92b2bcc0-897a-4b10-ad64-b91d3469f9fe",
   "metadata": {},
   "source": [
    "## 01. 패치화 outputsize 예시 이해하기 \n",
    "\n",
    "https://pypi.org/project/patchify/"
   ]
  },
  {
   "cell_type": "markdown",
   "id": "3b056959-3339-40c4-86a3-29955c27bf6a",
   "metadata": {},
   "source": [
    "1.1. 2D"
   ]
  },
  {
   "cell_type": "code",
   "execution_count": 39,
   "id": "2f75b823-f962-408f-9cd6-93dfbc01c328",
   "metadata": {},
   "outputs": [
    {
     "name": "stdout",
     "output_type": "stream",
     "text": [
      "이미지 사이즈 :  (3, 4)\n",
      "패치화된 사이즈 :  (2, 3, 2, 2)\n"
     ]
    }
   ],
   "source": [
    "import numpy as np\n",
    "from patchify import patchify, unpatchify\n",
    "\n",
    "image = np.array([[1,2,3,4], [5,6,7,8], [9,10,11,12]])\n",
    "print('이미지 사이즈 : ',image.shape)\n",
    "\n",
    "patches = patchify(image, (2,2), step=1) # split image into 2*3 small 2*2 patches.\n",
    "print('패치화된 사이즈 : ',patches.shape)"
   ]
  },
  {
   "cell_type": "code",
   "execution_count": 32,
   "id": "7522d2b9-a9b6-44e7-8976-4eca1c45742b",
   "metadata": {},
   "outputs": [
    {
     "data": {
      "text/plain": [
       "(2, 3, 2, 2)"
      ]
     },
     "execution_count": 32,
     "metadata": {},
     "output_type": "execute_result"
    }
   ],
   "source": [
    "## output size 계산\n",
    "# patches.shape[0] = 2 = (3-2)/1 + 1 =2 # 잘려진 세로 개수 \n",
    "# patches.shape[1] = 3 = (4-2)/1 + 1 =3 # 잘려진 가로 개수 \n",
    "# patches.shape[2] = 2 # 필터 세로 사이즈 \n",
    "# patches.shape[3] = 2 # 필터 가로 사이즈 "
   ]
  },
  {
   "cell_type": "code",
   "execution_count": 40,
   "id": "860cf345-47ba-4fcd-aeea-ab79be42cc99",
   "metadata": {},
   "outputs": [
    {
     "data": {
      "text/plain": [
       "array([[ 1,  2,  3,  4],\n",
       "       [ 5,  6,  7,  8],\n",
       "       [ 9, 10, 11, 12]])"
      ]
     },
     "execution_count": 40,
     "metadata": {},
     "output_type": "execute_result"
    }
   ],
   "source": [
    "image"
   ]
  },
  {
   "cell_type": "code",
   "execution_count": 41,
   "id": "451fb197-b14a-4880-b58a-4b8391f07285",
   "metadata": {},
   "outputs": [
    {
     "data": {
      "text/plain": [
       "array([[[[ 1,  2],\n",
       "         [ 5,  6]],\n",
       "\n",
       "        [[ 2,  3],\n",
       "         [ 6,  7]],\n",
       "\n",
       "        [[ 3,  4],\n",
       "         [ 7,  8]]],\n",
       "\n",
       "\n",
       "       [[[ 5,  6],\n",
       "         [ 9, 10]],\n",
       "\n",
       "        [[ 6,  7],\n",
       "         [10, 11]],\n",
       "\n",
       "        [[ 7,  8],\n",
       "         [11, 12]]]])"
      ]
     },
     "execution_count": 41,
     "metadata": {},
     "output_type": "execute_result"
    }
   ],
   "source": [
    "patches"
   ]
  },
  {
   "cell_type": "markdown",
   "id": "cab659a4-e55b-4e9e-bc21-99c78550c712",
   "metadata": {},
   "source": [
    "1.2. 3D"
   ]
  },
  {
   "cell_type": "code",
   "execution_count": 63,
   "id": "95f56c99-8212-4491-81ed-bd5e4584a02d",
   "metadata": {},
   "outputs": [
    {
     "data": {
      "text/plain": [
       "array([[[0.59030221, 0.58187063, 0.91775745],\n",
       "        [0.99655855, 0.4557943 , 0.33534802],\n",
       "        [0.05841365, 0.83957939, 0.87792055]],\n",
       "\n",
       "       [[0.90287972, 0.97547266, 0.16740185],\n",
       "        [0.55475702, 0.33588203, 0.28648255],\n",
       "        [0.03578571, 0.59383602, 0.9610696 ]]])"
      ]
     },
     "execution_count": 63,
     "metadata": {},
     "output_type": "execute_result"
    }
   ],
   "source": [
    "np.random.rand(2,3,3) # 3D 배열 이해 하기 "
   ]
  },
  {
   "cell_type": "code",
   "execution_count": 107,
   "id": "9ef344f6-9d44-41fb-9e01-1569a6896240",
   "metadata": {},
   "outputs": [
    {
     "name": "stdout",
     "output_type": "stream",
     "text": [
      "이미지 사이즈 :  (512, 512, 3)\n",
      "패치화된 사이즈 :  (256, 256, 1, 2, 2, 3)\n"
     ]
    }
   ],
   "source": [
    "import numpy as np\n",
    "from patchify import patchify, unpatchify\n",
    "\n",
    "image = np.random.rand(512,512,3)\n",
    "print('이미지 사이즈 : ',image.shape)\n",
    "\n",
    "patches = patchify(image, (2,2,3), step=2) # patch shape [2,2,3]\n",
    "print('패치화된 사이즈 : ',patches.shape) # (52, 52, 1, 2, 2, 3). Total patches created: 511x511x1"
   ]
  },
  {
   "cell_type": "code",
   "execution_count": 108,
   "id": "4396a017-2c64-4775-be7a-2f487960bfa0",
   "metadata": {},
   "outputs": [],
   "source": [
    "reconstructed_image = unpatchify(patches, image.shape)"
   ]
  },
  {
   "cell_type": "code",
   "execution_count": 82,
   "id": "494a915f-dded-40c8-b6ea-ba8cae6f6241",
   "metadata": {},
   "outputs": [],
   "source": [
    "## output size 계산\n",
    "# patches.shape[0] = 52 = (512-2)/10 + 1 =52 # 잘려진 세로 개수 \n",
    "# patches.shape[1] = 52 = (512-2)/10 + 1 =52 # 잘려진 가로 개수 \n",
    "# patches.shape[3] = 2 # 필터 세로 사이즈 \n",
    "# patches.shape[4] = 2 # 필터 가로 사이즈 "
   ]
  },
  {
   "cell_type": "code",
   "execution_count": 97,
   "id": "86fb7007-094c-47dd-a13b-e0550370c44d",
   "metadata": {},
   "outputs": [
    {
     "data": {
      "text/plain": [
       "256.0"
      ]
     },
     "execution_count": 97,
     "metadata": {},
     "output_type": "execute_result"
    }
   ],
   "source": [
    " (512-2)/2 + 1"
   ]
  },
  {
   "cell_type": "code",
   "execution_count": 126,
   "id": "13466e31-a4a2-4f5f-8b9f-fb5bde30c6b4",
   "metadata": {},
   "outputs": [
    {
     "data": {
      "text/plain": [
       "0"
      ]
     },
     "execution_count": 126,
     "metadata": {},
     "output_type": "execute_result"
    }
   ],
   "source": [
    "(512-5)%3"
   ]
  },
  {
   "cell_type": "code",
   "execution_count": 111,
   "id": "c0813707-04f8-4cd3-9fb2-8e890e55e87e",
   "metadata": {},
   "outputs": [],
   "source": [
    "def patchify1(img, patch_shape):\n",
    "    img = np.ascontiguousarray(img)  # won't make a copy if not needed\n",
    "    X, Y = img.shape\n",
    "    x, y = patch_shape\n",
    "    shape = ((X-x+1), (Y-y+1), x, y) # number of patches, patch_shape\n",
    "    # The right strides can be thought by:\n",
    "    # 1) Thinking of `img` as a chunk of memory in C order\n",
    "    # 2) Asking how many items through that chunk of memory are needed when indices\n",
    "    #    i,j,k,l are incremented by one\n",
    "    strides = img.itemsize*np.array([Y, 1, Y, 1])\n",
    "    return np.lib.stride_tricks.as_strided(img, shape=shape, strides=strides)"
   ]
  },
  {
   "cell_type": "code",
   "execution_count": 112,
   "id": "051ca472-7a30-40da-b10a-6be1572696c1",
   "metadata": {},
   "outputs": [],
   "source": [
    "def unpatchify1(img_patches, block_size):\n",
    "    B0, B1 = block_size\n",
    "    N = np.prod(img_patches.shape[1::2])\n",
    "    patches2D = img_patches.transpose(0,2,1,3).reshape(-1,N)\n",
    "\n",
    "    m,n = patches2D.shape\n",
    "    row_mask = np.zeros(m,dtype=bool)\n",
    "    col_mask = np.zeros(n,dtype=bool)\n",
    "    row_mask[::B0]= 1\n",
    "    col_mask[::B1]= 1\n",
    "    row_mask[-B0:] = 1\n",
    "    col_mask[-B1:] = 1\n",
    "    return patches2D[np.ix_(row_mask, col_mask)]"
   ]
  },
  {
   "cell_type": "code",
   "execution_count": 113,
   "id": "5bc50e9f-b381-4115-acea-c6f6306cbc97",
   "metadata": {},
   "outputs": [],
   "source": [
    "img = np.random.randint(0,255,(16,25))\n",
    "block_size = (4,8)"
   ]
  },
  {
   "cell_type": "code",
   "execution_count": 114,
   "id": "58d8b99b-c254-4631-88bf-80c4ceb15441",
   "metadata": {},
   "outputs": [],
   "source": [
    "a= unpatchify1(patchify1(img, block_size), block_size)"
   ]
  },
  {
   "cell_type": "code",
   "execution_count": 121,
   "id": "5a8fc5e7-7dc8-4638-9d80-0cb3e9b936cd",
   "metadata": {},
   "outputs": [
    {
     "data": {
      "text/plain": [
       "(13, 18, 4, 8)"
      ]
     },
     "execution_count": 121,
     "metadata": {},
     "output_type": "execute_result"
    }
   ],
   "source": [
    "patchify1(img, block_size).shape"
   ]
  },
  {
   "cell_type": "code",
   "execution_count": 124,
   "id": "6dce7655-c27a-4f5d-befe-767228b7f8eb",
   "metadata": {},
   "outputs": [
    {
     "data": {
      "text/plain": [
       "13.0"
      ]
     },
     "execution_count": 124,
     "metadata": {},
     "output_type": "execute_result"
    }
   ],
   "source": [
    " (16-4)/1 + 1"
   ]
  },
  {
   "cell_type": "code",
   "execution_count": 105,
   "id": "58503bfb-e838-499a-ae17-108e11434c74",
   "metadata": {},
   "outputs": [
    {
     "data": {
      "text/plain": [
       "True"
      ]
     },
     "execution_count": 105,
     "metadata": {},
     "output_type": "execute_result"
    }
   ],
   "source": [
    "np.allclose(img, unpatchify(patchify(img, block_size), block_size))"
   ]
  },
  {
   "cell_type": "code",
   "execution_count": null,
   "id": "0b8226c0-aabb-47aa-9c12-660b7619058d",
   "metadata": {},
   "outputs": [],
   "source": []
  }
 ],
 "metadata": {
  "kernelspec": {
   "display_name": "Python 3",
   "language": "python",
   "name": "python3"
  },
  "language_info": {
   "codemirror_mode": {
    "name": "ipython",
    "version": 3
   },
   "file_extension": ".py",
   "mimetype": "text/x-python",
   "name": "python",
   "nbconvert_exporter": "python",
   "pygments_lexer": "ipython3",
   "version": "3.8.8"
  }
 },
 "nbformat": 4,
 "nbformat_minor": 5
}
